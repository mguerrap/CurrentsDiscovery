{
 "cells": [
  {
   "cell_type": "markdown",
   "metadata": {},
   "source": [
    "# Learning Objectives Module 1 : Intro to Tides"
   ]
  },
  {
   "cell_type": "markdown",
   "metadata": {},
   "source": [
    "I. What causes tides?"
   ]
  },
  {
   "cell_type": "markdown",
   "metadata": {},
   "source": [
    "II. How does the moon impact tides?"
   ]
  },
  {
   "cell_type": "markdown",
   "metadata": {},
   "source": [
    "III. How do the Sun and Moon work together to influence tides?"
   ]
  },
  {
   "cell_type": "markdown",
   "metadata": {},
   "source": [
    "IV. What are Neap and Spring tides?"
   ]
  },
  {
   "cell_type": "markdown",
   "metadata": {},
   "source": [
    "## What causes tides?"
   ]
  },
  {
   "cell_type": "markdown",
   "metadata": {},
   "source": [
    "Tides are caused by gravitational attraction to nearby celestial bodies.  The water on Earth is affected mainly by the Moon, because it is so close, and the Sun, because it is so massive."
   ]
  },
  {
   "cell_type": "code",
   "execution_count": 1,
   "metadata": {
    "collapsed": false
   },
   "outputs": [
    {
     "ename": "SyntaxError",
     "evalue": "invalid syntax (module1_utils.py, line 115)",
     "output_type": "error",
     "traceback": [
      "\u001b[0;36m  File \u001b[0;32m\"/Users/Zak/Desktop/CSEclass/tydal/tydal/module1_utils.py\"\u001b[0;36m, line \u001b[0;32m115\u001b[0m\n\u001b[0;31m    <<<<<<< HEAD\u001b[0m\n\u001b[0m     ^\u001b[0m\n\u001b[0;31mSyntaxError\u001b[0m\u001b[0;31m:\u001b[0m invalid syntax\n"
     ]
    }
   ],
   "source": [
    "# Before we can get started, we are going to import some python packages that will be needed to run this notebook.\n",
    "import os\n",
    "import pandas as pd\n",
    "import matplotlib.pyplot as plt\n",
    "from ipywidgets import interact, interactive, fixed\n",
    "from IPython.display import Image, display\n",
    "from tydal import module1_utils\n",
    "from tydal import MoonCycleDates as mcd\n",
    "from datetime import date\n",
    "from matplotlib.offsetbox import TextArea, DrawingArea, OffsetImage, AnnotationBbox\n",
    "import matplotlib.image as IM\n",
    "import matplotlib._png\n",
    "from matplotlib._png import read_png"
   ]
  },
  {
   "cell_type": "markdown",
   "metadata": {},
   "source": [
    "### The Moon's contribution to tides\n",
    "First, we will look at the influence of the Moon on Earth's water.  The easiest way to explain this is to imagine the Earth being covered completely by ocean.  This allows the water to flow without running into any continents, which complicates the resulting tides.\n",
    "The primary bulge on the surface of the Earth facing the Moon is intuitive;  The Moon is on that side and its gravity pulls the water toward it.  The secondary bulge on the opposite face of the Earth is more elusive.  The center of mass of the Earth-Moon system is located inside the Earth, but slightly closer to the Moon.  As the Earth-Moon system rotates around this center of mass, the centripetal force pushes water to the outside, which is the side opposite the Moon.  The tidal bulge can be seen in blue below.  The Earth is the green circle and the Moon is the grey circle."
   ]
  },
  {
   "cell_type": "code",
   "execution_count": null,
   "metadata": {
    "collapsed": false
   },
   "outputs": [],
   "source": [
    "Image(\"./Figures/TidalBulge.jpg\")"
   ]
  },
  {
   "cell_type": "markdown",
   "metadata": {},
   "source": [
    "The moon revolves around the Earth as the Earth rotates around its axis.  The period of Earth's rotation is 24 hours, while the period of the Moon's revolution around the Earth is ~28 days.  As the Earth rotates underneath the Moon, it moves through the Moon's tidal bulge.  This can be seen in the figure below.  A single point on Earth has been highlighted as a red dot.  Initially, the red dot starts out at the crest of the tidal bulge and is experiencing high tide.  After 6 hours, the red dot has moved underneath the bulge and has moved to the trough of the bulge known as low tide.  Continuing through the day, the red dot experiences another crest (high tide) and another trough (low tide) before returning to the initial position at high tide.  "
   ]
  },
  {
   "cell_type": "code",
   "execution_count": null,
   "metadata": {
    "collapsed": false
   },
   "outputs": [],
   "source": [
    "Image (\"./Figures/Earth_Moon_Tides_Simple.jpg\")"
   ]
  },
  {
   "cell_type": "markdown",
   "metadata": {},
   "source": [
    "A location on Earth where there are two high tides and two low tides with equal amplitude experiences semidiurnal tides.  This can be seen by plotting some tide data from North Carolina (below)."
   ]
  },
  {
   "cell_type": "code",
   "execution_count": null,
   "metadata": {
    "collapsed": false
   },
   "outputs": [],
   "source": [
    "%matplotlib inline\n",
    "\n",
    "# Lets load in some tide data\n",
    "\n",
    "NCdata = pd.read_csv(\"./Data/SemiDiurnalTides.csv\", parse_dates=[\"Date Time\"])\n",
    "\n",
    "# And let's look at what data we have\n",
    "NCdata.head()"
   ]
  },
  {
   "cell_type": "code",
   "execution_count": null,
   "metadata": {
    "collapsed": false
   },
   "outputs": [],
   "source": [
    "NCdata.tail()"
   ]
  },
  {
   "cell_type": "code",
   "execution_count": null,
   "metadata": {
    "collapsed": false
   },
   "outputs": [],
   "source": [
    "NCdata.columns"
   ]
  },
  {
   "cell_type": "markdown",
   "metadata": {},
   "source": [
    "As you can see from the top of this data, we have three columns.  These columns hold data for the time that the water level measurement was taken, the measured water level, and Sigma, representing the uncertainty in the measurement.  Now that we know what makes up our data, let's plot it."
   ]
  },
  {
   "cell_type": "code",
   "execution_count": null,
   "metadata": {
    "collapsed": false
   },
   "outputs": [],
   "source": [
    "# This ploting function takes in five arguments: \n",
    "# a dataset, a start time, an end time, a title, and a size\n",
    "module1_utils.tidal_plot(NCdata, \"2016-03-07 18:00:00\", \"2016-03-08 20:00:00\",\n",
    "                         title=\"North Carolina Tides\", sized=(15,8))"
   ]
  },
  {
   "cell_type": "markdown",
   "metadata": {},
   "source": [
    "As you can see, there are two low tides and two high tides of equal amplitude.\n",
    "\n",
    "Let's slice the data to see just one cycle: from 1 ft elevation, to high tide, to low tide, back to 1 ft elevation.  That looks like that starts just after 19:00:00 and ends around 08:30.  Let's trim the data to reflect this and plot it again."
   ]
  },
  {
   "cell_type": "code",
   "execution_count": null,
   "metadata": {
    "collapsed": false
   },
   "outputs": [],
   "source": [
    "module1_utils.tidal_plot(NCdata, \"2016-03-07 19:00:00\", \"2016-03-08 08:30:00\",\n",
    "                         title=\"North Carolina Tides\", sized=(15,8))"
   ]
  },
  {
   "cell_type": "code",
   "execution_count": null,
   "metadata": {
    "collapsed": true
   },
   "outputs": [],
   "source": [
    "def inter_plot (start, end):\n",
    "    module1_utils.tidal_plot(NCdata, start, end, title=\"North Carolina Tides\", sized=(12,6))"
   ]
  },
  {
   "cell_type": "code",
   "execution_count": null,
   "metadata": {
    "collapsed": false
   },
   "outputs": [],
   "source": [
    "interact(inter_plot(start_list, end_list))"
   ]
  },
  {
   "cell_type": "code",
   "execution_count": null,
   "metadata": {
    "collapsed": false
   },
   "outputs": [],
   "source": [
    "start_list = list(NCdata[\"Date Time\"])\n",
    "end_list = list(NCdata[\"Date Time\"])\n",
    "\n",
    "interact(module1_utils.tidal_plot, NCdata, start_time=(start_list),end_time=(end_list), title=\"North Carolina Tides\")"
   ]
  },
  {
   "cell_type": "code",
   "execution_count": null,
   "metadata": {
    "collapsed": false
   },
   "outputs": [],
   "source": [
    "# This is the same function as above\n",
    "module1_utils.tidal_plot(NCdata, \"2016-03-07 19:16:00\", \"2016-03-08 08:30:00\",\n",
    "                         title=\"One Tidal Cycle\", sized=(12,6))"
   ]
  },
  {
   "cell_type": "markdown",
   "metadata": {},
   "source": [
    "The tidal period, however is not exactly 24 hours.  The Moon revolves around the Earth in the same direction that the Earth rotates around its axis.  As such, after 24 hours the Moon has advanced past its original position.  To make up for the progress of the Moon, the Earth has to rotate for an additional 50 minutes to be positioned underneath the moon.  The correct representation is shown below."
   ]
  },
  {
   "cell_type": "code",
   "execution_count": null,
   "metadata": {
    "collapsed": true
   },
   "outputs": [],
   "source": [
    "Image(\"./Figures/Earth_Moon_Tides_Real.jpg\")"
   ]
  },
  {
   "cell_type": "markdown",
   "metadata": {},
   "source": [
    "### The Sun's contribution to tides"
   ]
  },
  {
   "cell_type": "markdown",
   "metadata": {},
   "source": [
    "The Sun, although much more massive than the Moon, is farther away from Earth than the Moon and has less of an effect on the Earth's tides than the Moon.  However, it still creates its own tidal bulge.  The bulge from the sun is similar to the one formed by the moon.  Thus, the resulting bulge that the Earth sees is a sum of the two bulges: the one from the Moon and the one from the Sun.  The tidal bulge due to the Sun is in yellow and the tidal bulge from the Moon is in blue."
   ]
  },
  {
   "cell_type": "code",
   "execution_count": null,
   "metadata": {
    "collapsed": false
   },
   "outputs": [],
   "source": [
    "Image(\"./Figures/SunMoon_sum.jpg\")"
   ]
  },
  {
   "cell_type": "markdown",
   "metadata": {},
   "source": [
    "#### Phases of the Moon"
   ]
  },
  {
   "cell_type": "markdown",
   "metadata": {},
   "source": [
    "First, we will review the phases of the Moon.  The amount of the moon that is visible (illuminated) from Earth is dependent on its position relative to the Earth and Sun. When the Moon is positioned between the Sun and the Earth, it is called a New Moon, as shown below.  If you look at the moon you will not see it because the illuminated side is facing away from us.\n",
    "\n",
    "The dates corresponding to each phase of the moon for 2014 are included in a list and are displayed below each image."
   ]
  },
  {
   "cell_type": "code",
   "execution_count": null,
   "metadata": {
    "collapsed": false
   },
   "outputs": [],
   "source": [
    "Image(\"./Figures/NewMoon.jpg\")"
   ]
  },
  {
   "cell_type": "code",
   "execution_count": null,
   "metadata": {
    "collapsed": false
   },
   "outputs": [],
   "source": [
    "mcd.New_2014"
   ]
  },
  {
   "cell_type": "code",
   "execution_count": null,
   "metadata": {
    "collapsed": false
   },
   "outputs": [],
   "source": [
    "import datetime as dt\n",
    "def mcddatetime(Moon):\n",
    "    \"\"\"Makes Moon Cycle date into datetime format for plotting\"\"\"\n",
    "    dates = [(dt.datetime.strptime(date, '%Y%m%d').date() + pd.DateOffset(hours=0)) for date in Moon]\n",
    "    modified_data=pd.to_datetime(dates)\n",
    "    return modified_data\n",
    "\n",
    "\n",
    "#mcd.New_2014\n",
    "#mcd.New_2014_dates = [(dt.datetime.strptime(date, '%Y%m%d').date() + pd.DateOffset(hours=0)) for date in mcd.New_2014]\n",
    "#pd.to_datetime(mcd.New_2014_dates)"
   ]
  },
  {
   "cell_type": "code",
   "execution_count": null,
   "metadata": {
    "collapsed": true
   },
   "outputs": [],
   "source": [
    "New_2014_dates = mcddatetime(mcd.New_2014)\n",
    "First_2014_dates = mcddatetime(mcd.First_2014)\n",
    "Full_2014_dates = mcddatetime(mcd.Full_2014)\n",
    "Third_2014_dates = mcddatetime(mcd.Third_2014)"
   ]
  },
  {
   "cell_type": "markdown",
   "metadata": {},
   "source": [
    "When the Moon makes it a quarter of the way around the Earth, or 90 degrees, it has reached the phase known as First Quarter.  At the point the right half of the moon is illuminated when viewed from Earth, as seen below."
   ]
  },
  {
   "cell_type": "code",
   "execution_count": null,
   "metadata": {
    "collapsed": false
   },
   "outputs": [],
   "source": []
  },
  {
   "cell_type": "code",
   "execution_count": null,
   "metadata": {
    "collapsed": false
   },
   "outputs": [],
   "source": [
    "Image(\"./Figures/FirstQuarter.jpg\")"
   ]
  },
  {
   "cell_type": "code",
   "execution_count": null,
   "metadata": {
    "collapsed": false
   },
   "outputs": [],
   "source": [
    "mcd.First_2014"
   ]
  },
  {
   "cell_type": "markdown",
   "metadata": {},
   "source": [
    "When the Moon has moved another quarter of the way around Earth, it reaches the phase known as Full Moon.  When viewed from the Earth, the whole moon is illuminated and visible.  "
   ]
  },
  {
   "cell_type": "code",
   "execution_count": null,
   "metadata": {
    "collapsed": false
   },
   "outputs": [],
   "source": [
    "Image(\"./Figures/FullMoon.jpg\")"
   ]
  },
  {
   "cell_type": "code",
   "execution_count": null,
   "metadata": {
    "collapsed": false
   },
   "outputs": [],
   "source": [
    "mcd.Full_2014"
   ]
  },
  {
   "cell_type": "markdown",
   "metadata": {},
   "source": [
    "Continuing through another quarter of the way around Earth puts it in the Third Quarter postion.  At this point, the left half of the Moon is illuminated when viewed from Earth."
   ]
  },
  {
   "cell_type": "code",
   "execution_count": null,
   "metadata": {
    "collapsed": false
   },
   "outputs": [],
   "source": [
    "Image(\"./Figures/ThirdQuarter.jpg\")"
   ]
  },
  {
   "cell_type": "code",
   "execution_count": null,
   "metadata": {
    "collapsed": false
   },
   "outputs": [],
   "source": [
    "mcd.Third_2014"
   ]
  },
  {
   "cell_type": "markdown",
   "metadata": {},
   "source": [
    "To see this monthly effect, let's plot a month of data.  We have a new data set for this demonstration, so we will load that in first and then parse out a month period."
   ]
  },
  {
   "cell_type": "code",
   "execution_count": null,
   "metadata": {
    "collapsed": false
   },
   "outputs": [],
   "source": [
    "[NB, PT, PA] = module1_utils.load_tide_station_data()\n",
    "\n",
    "# Just to clarify, we are loading the data for three tidal stations at once here.\n",
    "# They are Neah Bay (NB), Port Townsend, (PT), and Port Angeles (PA).\n",
    "# We will only explore the Neah Bay in this section, but will use the other\n",
    "# stations later."
   ]
  },
  {
   "cell_type": "markdown",
   "metadata": {},
   "source": [
    "This data is similar in form to the data used above.  We can check that by displaying the head and tail of the data."
   ]
  },
  {
   "cell_type": "code",
   "execution_count": null,
   "metadata": {
    "collapsed": false
   },
   "outputs": [],
   "source": [
    "NB.head()"
   ]
  },
  {
   "cell_type": "code",
   "execution_count": null,
   "metadata": {
    "collapsed": true
   },
   "outputs": [],
   "source": [
    "NB.tail()"
   ]
  },
  {
   "cell_type": "markdown",
   "metadata": {},
   "source": [
    "Let's plot the full cycle from Full Moon to Full Moon using the lists above.  This will allow us to see how the position of the Moon relative to the Earth and Sun can affect the strength of the tides.\n",
    "\n",
    "I'll plot November 1st to December 10th.  During this range there is a Full Moon (11/6), a Third Quarter Moon (11/14), a New Moon (11/22), a First Quarter Moon (11/29), and back to a Full Moon (12/6)."
   ]
  },
  {
   "cell_type": "code",
   "execution_count": null,
   "metadata": {
    "collapsed": false
   },
   "outputs": [],
   "source": [
    "module1_utils.tidal_plot(NB, \"2014-11-01 00:00:00\", \"2014-12-10 00:00:00\",\n",
    "                         title=\"Neah Bay Tides\", sized=(15,8))"
   ]
  },
  {
   "cell_type": "markdown",
   "metadata": {},
   "source": [
    "Notice how the tides change based on the phase of the moon.  The tidal range, the distance between the high tide and the low tide, is at a maximum during a New Moon or Full Moon and at a minimum during a First or Third Quarter Moon."
   ]
  },
  {
   "cell_type": "code",
   "execution_count": null,
   "metadata": {
    "collapsed": false
   },
   "outputs": [],
   "source": [
    "module1_utils.tidal_plot(PT, \"2014-11-01 00:00:00\", \"2014-12-10 00:00:00\",\n",
    "                         title=\"Port Townsend Tides\", sized=(15,8))"
   ]
  },
  {
   "cell_type": "code",
   "execution_count": null,
   "metadata": {
    "collapsed": false
   },
   "outputs": [],
   "source": [
    "module1_utils.tidal_plot(PA, \"2014-11-01 00:00:00\", \"2014-12-10 00:00:00\",\n",
    "                         title=\"Port Angeles Tides\", sized=(15,8))"
   ]
  },
  {
   "cell_type": "code",
   "execution_count": null,
   "metadata": {
    "collapsed": false
   },
   "outputs": [],
   "source": [
    "NB_2014 = module1_utils.trim_data(NB, \"2014-01-01 00:00:00\", \"2014-12-31 23:54:00\")\n",
    "PT_2014 = module1_utils.trim_data(PT, \"2014-01-01 00:00:00\", \"2014-12-31 23:54:00\")\n",
    "PA_2014 = module1_utils.trim_data(PA, \"2014-01-01 00:00:00\", \"2014-12-31 23:54:00\")\n",
    "NB_2014.head()"
   ]
  },
  {
   "cell_type": "code",
   "execution_count": null,
   "metadata": {
    "collapsed": true
   },
   "outputs": [],
   "source": [
    "NB_2014.tail()"
   ]
  },
  {
   "cell_type": "code",
   "execution_count": null,
   "metadata": {
    "collapsed": false
   },
   "outputs": [],
   "source": [
    "FullMoon = plt.imread(\"./Figures/FullMoonA.png\")"
   ]
  },
  {
   "cell_type": "code",
   "execution_count": null,
   "metadata": {
    "collapsed": false
   },
   "outputs": [],
   "source": [
    "fig, ax = plt.subplots(figsize=(15, 8))\n",
    "# Add Text New\n",
    "offsetbox = TextArea(\"New Moon\", minimumdescent=False)\n",
    "xyTextNew = [New_2014_dates[11], 14.5]\n",
    "abTextNew = AnnotationBbox(offsetbox, xyTextNew,\n",
    "    xybox=(30., -30.),\n",
    "    xycoords='data',\n",
    "    boxcoords=\"offset points\")\n",
    "ax.add_artist(abTextNew)\n",
    "# add New moon image\n",
    "NewMoon = plt.imread(\"./Figures/NewMoonA.png\")\n",
    "imageboxNew = OffsetImage(NewMoon, zoom=.5)\n",
    "xyMoonNew = [New_2014_dates[11], 13]               # coordinates to position this image\n",
    "abMoonNew = AnnotationBbox(imageboxNew, xyMoonNew,\n",
    "    xybox=(30., -30.),\n",
    "    xycoords='data',\n",
    "    boxcoords=\"offset points\",\n",
    "    frameon=False)                                  \n",
    "ax.add_artist(abMoonNew)\n",
    "# Add Text Full\n",
    "offsetboxFull = TextArea(\"Full Moon\", minimumdescent=False)\n",
    "xyTextFull = [Full_2014_dates[11], 14.5]\n",
    "abTextFull = AnnotationBbox(offsetboxFull, xyTextFull,\n",
    "    xybox=(30., -30.),\n",
    "    xycoords='data',\n",
    "    boxcoords=\"offset points\")\n",
    "ax.add_artist(abTextFull)\n",
    "# add Full moon image\n",
    "FullMoon = plt.imread(\"./Figures/FullMoonA.png\")\n",
    "imageboxFull = OffsetImage(FullMoon, zoom=.5)\n",
    "xyMoonFull = [Full_2014_dates[11], 13]               # coordinates to position this image\n",
    "abMoonFull = AnnotationBbox(imageboxFull, xyMoonFull,\n",
    "    xybox=(30., -30.),\n",
    "    xycoords='data',\n",
    "    boxcoords=\"offset points\",\n",
    "    frameon=False)                                  \n",
    "ax.add_artist(abMoonFull)\n",
    "# Add Text First\n",
    "offsetboxFirst = TextArea(\"First Moon\", minimumdescent=False)\n",
    "xyTextFirst = [First_2014_dates[11], 14.5]\n",
    "abTextFirst = AnnotationBbox(offsetboxFirst, xyTextFirst,\n",
    "    xybox=(30., -30.),\n",
    "    xycoords='data',\n",
    "    boxcoords=\"offset points\")\n",
    "ax.add_artist(abTextFirst)\n",
    "# add First moon image\n",
    "FirstMoon = plt.imread(\"./Figures/FirstQuarterA.png\")\n",
    "imageboxFirst = OffsetImage(FirstMoon, zoom=.5)\n",
    "xyMoonFirst = [First_2014_dates[11], 13]               # coordinates to position this image\n",
    "abMoonFirst = AnnotationBbox(imageboxFirst, xyMoonFirst,\n",
    "    xybox=(30., -30.),\n",
    "    xycoords='data',\n",
    "    boxcoords=\"offset points\",\n",
    "    frameon=False)                                  \n",
    "ax.add_artist(abMoonFirst)\n",
    "# Add Text Third\n",
    "offsetboxThird = TextArea(\"Third Moon\", minimumdescent=False)\n",
    "xyTextThird = [Third_2014_dates[10], 14.5]\n",
    "abTextThird = AnnotationBbox(offsetboxThird, xyTextThird,\n",
    "    xybox=(30., -30.),\n",
    "    xycoords='data',\n",
    "    boxcoords=\"offset points\")\n",
    "ax.add_artist(abTextThird)\n",
    "# add Third moon image\n",
    "ThirdMoon = plt.imread(\"./Figures/ThreeQuarterMoonA.png\")\n",
    "imageboxThird= OffsetImage(ThirdMoon, zoom=.5)\n",
    "xyMoonThird = [Third_2014_dates[10], 13]               # coordinates to position this image\n",
    "abMoonThird = AnnotationBbox(imageboxThird, xyMoonThird,\n",
    "    xybox=(30., -30.),\n",
    "    xycoords='data',\n",
    "    boxcoords=\"offset points\",\n",
    "    frameon=False)                                  \n",
    "ax.add_artist(abMoonThird)\n",
    "plt.title('Effects of position of the Moon relative to the Earth and Sun on the strength of the tides')\n",
    "plt.style.use('ggplot')\n",
    "#Expand graph height\n",
    "plt.plot(Third_2014_dates[10],14.5)\n",
    "plt.plot(subset[\"Date Time\"], subset[\"Water Level\"])\n",
    "# beautify the x-labels\n",
    "plt.gcf().autofmt_xdate()\n",
    "plt.xlabel(\"Time of Day (GMT)\")\n",
    "plt.ylabel(\"Water Height (ft)\")\n",
    "plt.draw()\n",
    "plt.show()"
   ]
  },
  {
   "cell_type": "markdown",
   "metadata": {},
   "source": [
    "## Spring and Neap Tides"
   ]
  },
  {
   "cell_type": "markdown",
   "metadata": {},
   "source": [
    "### Spring Tides"
   ]
  },
  {
   "cell_type": "markdown",
   "metadata": {},
   "source": [
    "A Spring tide occurs when the Sun, Earth, and Moon are in a line, as in a New Moon or Full Moon.  This causes the tidal bulges from the Sun and Moon to align and results in a higher high tide and a lower low tide."
   ]
  },
  {
   "cell_type": "code",
   "execution_count": null,
   "metadata": {
    "collapsed": false
   },
   "outputs": [],
   "source": [
    "Image(\"./Figures/SunMoon_Full.jpg\")"
   ]
  },
  {
   "cell_type": "code",
   "execution_count": null,
   "metadata": {
    "collapsed": false
   },
   "outputs": [],
   "source": [
    "# Full Moon list\n",
    "mcd.Full_2014"
   ]
  },
  {
   "cell_type": "code",
   "execution_count": null,
   "metadata": {
    "collapsed": false
   },
   "outputs": [],
   "source": [
    "module1_utils.tidal_plot(NB, \"2014-05-13 22:00:00\", \"2014-05-15 04:00:00\",\n",
    "                         title=\"Neah Bay Full Moon Tides\", sized=(15,8))"
   ]
  },
  {
   "cell_type": "markdown",
   "metadata": {},
   "source": [
    "The high tide here is at 8ft and the low tide is at almost -2ft. That is a tidal range of 10 ft!\n",
    "\n",
    "Let's plot a few more Full Moon days and compare the ranges."
   ]
  },
  {
   "cell_type": "code",
   "execution_count": null,
   "metadata": {
    "collapsed": true
   },
   "outputs": [],
   "source": [
    "interact(module1_utils.moon_cycle_exploration, data=fixed(NB_2014), cycle_days=mcd.New_2014)"
   ]
  },
  {
   "cell_type": "code",
   "execution_count": null,
   "metadata": {
    "collapsed": true
   },
   "outputs": [],
   "source": [
    "def tidal_plot_all3(data1, data2, data3, start_time, end_time, title=\"Tidal Elevation\",\n",
    "               sized=(12,6)):\n",
    "    \"\"\"\n",
    "    This function takes in a dataframe object, a start and end time, and a time\n",
    "    index.  It generates a plot from start to end of tidal elevation from data.\n",
    "    There is a vertical marker at the location specified in time_index.\n",
    "\n",
    "    Parameters:\n",
    "    ------------------\n",
    "    data - pandas DataFrame object\n",
    "        A dataframe containing the tidal elevation data\n",
    "\n",
    "    start_time - string\n",
    "        A string of the format \"yyyy-mm-dd hh:mm:ss\" in six minute intervals\n",
    "        on the minute  (e.g. \"2014-03-15 12:36:00\")\n",
    "\n",
    "    end_time - string\n",
    "        A string of the format \"yyyy-mm-dd hh:mm:ss\" in six minute intervals\n",
    "        on the minute (e.g. \"2014-03-16 12:48:00\")\n",
    "\n",
    "    title - string\n",
    "        A string to be the title of the generated plot\n",
    "\n",
    "    sized - touple\n",
    "        A touple to be the size of the generated figure (width, height)\n",
    "\n",
    "\n",
    "    OUTPUT\n",
    "    ------------------\n",
    "    This function returns a matplotlib plot with tidal elevations from all three ports\n",
    "    start_time to end_time with a vertical marker at the specified time_index\n",
    "    \"\"\"\n",
    "\n",
    "    subset1 = module1_utils.trim_data(data1, start_time, end_time)\n",
    "    subset2 = module1_utils.trim_data(data2, start_time, end_time)\n",
    "    subset3 = module1_utils.trim_data(data3, start_time, end_time)\n",
    "    fig, ax = plt.subplots(figsize=(20, 10))\n",
    "    plt.style.use(\"ggplot\")\n",
    "    plt.plot(subset1[\"Date Time\"], subset1[\"Water Level\"], label = 'Neah Bay')\n",
    "    plt.plot(subset2[\"Date Time\"], subset2[\"Water Level\"], label = 'Port Townsend')\n",
    "    plt.plot(subset3[\"Date Time\"], subset3[\"Water Level\"], label = 'Port Angeles')\n",
    "    plt.xlabel(\"Time of Day (GMT)\")\n",
    "    plt.ylabel(\"Water Height (ft)\")\n",
    "    plt.title(title)\n",
    "    ax.legend()\n",
    "    plt.show()\n"
   ]
  },
  {
   "cell_type": "code",
   "execution_count": null,
   "metadata": {
    "collapsed": true
   },
   "outputs": [],
   "source": [
    "#  You don't need to re import each of these in every cell they are used.\n",
    "# As long as you run the import cell at the beginning.\n",
    "\n",
    "from tydal.module1_utils import trim_data\n",
    "NB02132014 = trim_data(NB, \"2014-02-13 22:00:00\", \"2014-02-15 04:00:00\")\n",
    "PT02132014 = trim_data(PT, \"2014-02-13 22:00:00\", \"2014-02-15 04:00:00\")\n",
    "PA02132014 = trim_data(PA, \"2014-02-13 22:00:00\", \"2014-02-15 04:00:00\")"
   ]
  },
  {
   "cell_type": "code",
   "execution_count": null,
   "metadata": {
    "collapsed": false
   },
   "outputs": [],
   "source": [
    "fig, ax = plt.subplots(figsize=(20, 10))\n",
    "# Add Text Full\n",
    "offsetboxFull = TextArea(\"Full Moon\", minimumdescent=False)\n",
    "xyTextFull = [Full_2014_dates[1], 11]\n",
    "abTextFull = AnnotationBbox(offsetboxFull, xyTextFull,\n",
    "    xybox=(30., -30.),\n",
    "    xycoords='data',\n",
    "    boxcoords=\"offset points\")\n",
    "ax.add_artist(abTextFull)\n",
    "# add Full moon image\n",
    "FullMoon = plt.imread(\"./Figures/FullMoonA.png\")\n",
    "imageboxFull = OffsetImage(FullMoon, zoom=.5)\n",
    "xyMoonFull = [Full_2014_dates[1], 10]               # coordinates to position this image\n",
    "abMoonFull = AnnotationBbox(imageboxFull, xyMoonFull,\n",
    "    xybox=(30., -30.),\n",
    "    xycoords='data',\n",
    "    boxcoords=\"offset points\",\n",
    "    frameon=False)                                  \n",
    "ax.add_artist(abMoonFull)\n",
    "#Expand graph height\n",
    "plt.plot(Full_2014_dates[1],11)\n",
    "plt.title('Effects of position of the Moon relative to the Earth and Sun on the strength of the tides')\n",
    "plt.style.use('ggplot')\n",
    "plt.plot(NB02132014[\"Date Time\"], NB02132014[\"Water Level\"], label = 'Neah Bay')\n",
    "plt.plot(PT02132014[\"Date Time\"], PT02132014[\"Water Level\"], label = 'Port Townsend')\n",
    "plt.plot(PA02132014[\"Date Time\"], PA02132014[\"Water Level\"], label = 'Port Angeles')\n",
    "# beautify the x-labels\n",
    "plt.gcf().autofmt_xdate()\n",
    "plt.xlabel(\"Time of Day (GMT)\")\n",
    "plt.ylabel(\"Water Height (ft)\")\n",
    "ax.legend()\n",
    "plt.draw()\n",
    "plt.show()"
   ]
  },
  {
   "cell_type": "code",
   "execution_count": null,
   "metadata": {
    "collapsed": true
   },
   "outputs": [],
   "source": [
    "# We can also compare with New Moon tides, which are also Spring Tides.\n",
    "from tydal.module1_utils import trim_data\n",
    "NB09212014 = trim_data(NB, \"2014-09-21 22:00:00\", \"2014-09-24 04:00:00\")\n",
    "PT09212014 = trim_data(PT, \"2014-09-21 22:00:00\", \"2014-09-24 04:00:00\")\n",
    "PA09212014 = trim_data(PA, \"2014-09-21 22:00:00\", \"2014-09-24 04:00:00\")"
   ]
  },
  {
   "cell_type": "code",
   "execution_count": null,
   "metadata": {
    "collapsed": false
   },
   "outputs": [],
   "source": [
    "fig, ax = plt.subplots(figsize=(20, 10))\n",
    "# Add Text New\n",
    "offsetboxNew = TextArea(\"New Moon\", minimumdescent=False)\n",
    "xyTextNew = [New_2014_dates[9], 11]\n",
    "abTextNew = AnnotationBbox(offsetboxNew, xyTextNew,\n",
    "    xybox=(30., -30.),\n",
    "    xycoords='data',\n",
    "    boxcoords=\"offset points\")\n",
    "ax.add_artist(abTextNew)\n",
    "# add New moon image\n",
    "NewMoon = plt.imread(\"./Figures/NewMoonA.png\")\n",
    "imageboxNew = OffsetImage(NewMoon, zoom=.5)\n",
    "xyMoonNew = [New_2014_dates[9], 10]               # coordinates to position this image\n",
    "abMoonNew = AnnotationBbox(imageboxNew, xyMoonNew,\n",
    "    xybox=(30., -30.),\n",
    "    xycoords='data',\n",
    "    boxcoords=\"offset points\",\n",
    "    frameon=False)                                  \n",
    "ax.add_artist(abMoonNew)\n",
    "#Expand graph height\n",
    "plt.plot(New_2014_dates[9],11)\n",
    "plt.title('Effects of position of the Moon relative to the Earth and Sun on the strength of the tides')\n",
    "plt.style.use('ggplot')\n",
    "plt.plot(NB09212014[\"Date Time\"], NB09212014[\"Water Level\"], label = 'Neah Bay')\n",
    "plt.plot(PT09212014[\"Date Time\"], PT09212014[\"Water Level\"], label = 'Port Townsend')\n",
    "plt.plot(PA09212014[\"Date Time\"], PA09212014[\"Water Level\"], label = 'Port Angeles')\n",
    "# beautify the x-labels\n",
    "plt.gcf().autofmt_xdate()\n",
    "plt.xlabel(\"Time of Day (GMT)\")\n",
    "plt.ylabel(\"Water Height (ft)\")\n",
    "ax.legend()\n",
    "plt.draw()\n",
    "plt.show()"
   ]
  },
  {
   "cell_type": "markdown",
   "metadata": {},
   "source": [
    "### Neap Tides"
   ]
  },
  {
   "cell_type": "markdown",
   "metadata": {},
   "source": [
    "A Neap Tide occurs when the Moon is perpendicular to the line through the center of the Earth and Sun.  This occurs during First and Third Quarters.  This causes the tidal bulges to counter each other and results in a lower high tide and a higher low tide."
   ]
  },
  {
   "cell_type": "code",
   "execution_count": null,
   "metadata": {
    "collapsed": false
   },
   "outputs": [],
   "source": [
    "Image(\"./Figures/SunMoon_Third.jpg\")"
   ]
  },
  {
   "cell_type": "code",
   "execution_count": null,
   "metadata": {
    "collapsed": false
   },
   "outputs": [],
   "source": [
    "mcd.Third_2014"
   ]
  },
  {
   "cell_type": "markdown",
   "metadata": {},
   "source": [
    "We can explore the Third Quarter cycles as we did for the Full and New Moon dates."
   ]
  },
  {
   "cell_type": "code",
   "execution_count": null,
   "metadata": {
    "collapsed": false
   },
   "outputs": [],
   "source": [
    "interact(module1_utils.moon_cycle_exploration, data=fixed(NB_2014), cycle_days=mcd.Third_2014)"
   ]
  },
  {
   "cell_type": "markdown",
   "metadata": {},
   "source": [
    "Neap tides also occur during the First Quarter Phase.  Explore these dates below."
   ]
  },
  {
   "cell_type": "code",
   "execution_count": null,
   "metadata": {
    "collapsed": false
   },
   "outputs": [],
   "source": [
    "interact(module1_utils.moon_cycle_exploration, data=fixed(NB_2014), cycle_days=mcd.First_2014)"
   ]
  },
  {
   "cell_type": "code",
   "execution_count": null,
   "metadata": {
    "collapsed": true
   },
   "outputs": [],
   "source": [
    "# We can also compare with First tides, which are also Neap Tides.\n",
    "from tydal.module1_utils import trim_data\n",
    "NB05042014 = trim_data(NB, \"2014-05-04 22:00:00\", \"2014-05-08 04:00:00\")\n",
    "PT05042014 = trim_data(PT, \"2014-05-04 22:00:00\", \"2014-05-08 04:00:00\")\n",
    "PA05042014 = trim_data(PA, \"2014-05-04 22:00:00\", \"2014-05-08 04:00:00\")"
   ]
  },
  {
   "cell_type": "code",
   "execution_count": null,
   "metadata": {
    "collapsed": false
   },
   "outputs": [],
   "source": [
    "fig, ax = plt.subplots(figsize=(20, 10))\n",
    "# Add Text First\n",
    "offsetboxFirst = TextArea(\"First Moon\", minimumdescent=False)\n",
    "xyTextFirst = [First_2014_dates[4], 11]\n",
    "abTextFirst = AnnotationBbox(offsetboxFirst, xyTextFirst,\n",
    "    xybox=(30., -30.),\n",
    "    xycoords='data',\n",
    "    boxcoords=\"offset points\")\n",
    "ax.add_artist(abTextFirst)\n",
    "# add First moon image\n",
    "FirstMoon = plt.imread(\"./Figures/FirstQuarterA.png\")\n",
    "imageboxFirst = OffsetImage(FirstMoon, zoom=.5)\n",
    "xyMoonFirst = [First_2014_dates[4], 10]               # coordinates to position this image\n",
    "abMoonFirst = AnnotationBbox(imageboxFirst, xyMoonFirst,\n",
    "    xybox=(30., -30.),\n",
    "    xycoords='data',\n",
    "    boxcoords=\"offset points\",\n",
    "    frameon=False)                                  \n",
    "ax.add_artist(abMoonFirst)\n",
    "#Expand graph height\n",
    "plt.plot(First_2014_dates[4],11)\n",
    "plt.title('Effects of position of the Moon relative to the Earth and Sun on the strength of the tides')\n",
    "plt.style.use('ggplot')\n",
    "plt.plot(NB05042014[\"Date Time\"], NB05042014[\"Water Level\"], label = 'Neah Bay')\n",
    "plt.plot(PT05042014[\"Date Time\"], PT05042014[\"Water Level\"], label = 'Port Townsend')\n",
    "plt.plot(PA05042014[\"Date Time\"], PA05042014[\"Water Level\"], label = 'Port Angeles')\n",
    "# beautify the x-labels\n",
    "plt.gcf().autofmt_xdate()\n",
    "plt.xlabel(\"Time of Day (GMT)\")\n",
    "plt.ylabel(\"Water Height (ft)\")\n",
    "ax.legend()\n",
    "plt.draw()\n",
    "plt.show()"
   ]
  },
  {
   "cell_type": "code",
   "execution_count": null,
   "metadata": {
    "collapsed": false
   },
   "outputs": [],
   "source": [
    "# We can also compare with Third tides, which are also Neap Tides.\n",
    "from tydal.module1_utils import trim_data\n",
    "NB07162014 = trim_data(NB, \"2014-07-16 22:00:00\", \"2014-07-20 04:00:00\")\n",
    "PT07162014 = trim_data(PT, \"2014-07-16 22:00:00\", \"2014-07-20 04:00:00\")\n",
    "PA07162014 = trim_data(PA, \"2014-07-16 22:00:00\", \"2014-07-20 04:00:00\")"
   ]
  },
  {
   "cell_type": "code",
   "execution_count": null,
   "metadata": {
    "collapsed": false
   },
   "outputs": [],
   "source": [
    "fig, ax = plt.subplots(figsize=(20, 10))\n",
    "# Add Text Third\n",
    "offsetboxThird = TextArea(\"Third Moon\", minimumdescent=False)\n",
    "xyTextThird = [Third_2014_dates[6], 11.75]\n",
    "abTextThird = AnnotationBbox(offsetboxThird, xyTextThird,\n",
    "    xybox=(30., -30.),\n",
    "    xycoords='data',\n",
    "    boxcoords=\"offset points\")\n",
    "ax.add_artist(abTextThird)\n",
    "# add Third moon image\n",
    "ThirdMoon = plt.imread(\"./Figures/ThreeQuarterMoonA.png\")\n",
    "imageboxThird= OffsetImage(ThirdMoon, zoom=.5)\n",
    "xyMoonThird = [Third_2014_dates[6], 10.75]               # coordinates to position this image\n",
    "abMoonThird = AnnotationBbox(imageboxThird, xyMoonThird,\n",
    "    xybox=(30., -30.),\n",
    "    xycoords='data',\n",
    "    boxcoords=\"offset points\",\n",
    "    frameon=False)                                  \n",
    "ax.add_artist(abMoonThird)\n",
    "#Expand graph height\n",
    "plt.plot(Third_2014_dates[6],12)\n",
    "plt.title('Effects of position of the Moon relative to the Earth and Sun on the strength of the tides')\n",
    "plt.style.use('ggplot')\n",
    "plt.plot(NB07162014[\"Date Time\"], NB07162014[\"Water Level\"], label = 'Neah Bay')\n",
    "plt.plot(PT07162014[\"Date Time\"], PT07162014[\"Water Level\"], label = 'Port Townsend')\n",
    "plt.plot(PA07162014[\"Date Time\"], PA07162014[\"Water Level\"], label = 'Port Angeles')\n",
    "# beautify the x-labels\n",
    "plt.gcf().autofmt_xdate()\n",
    "plt.xlabel(\"Time of Day (GMT)\")\n",
    "plt.ylabel(\"Water Height (ft)\")\n",
    "ax.legend()\n",
    "plt.draw()\n",
    "plt.show()"
   ]
  },
  {
   "cell_type": "markdown",
   "metadata": {
    "collapsed": true
   },
   "source": [
    "# Tide changes over different ports in same area"
   ]
  },
  {
   "cell_type": "markdown",
   "metadata": {},
   "source": [
    "Using the tide data from Neah Bay, Port Townsend, and Port Angeles we can see how the tides vary between stationsf ro each moon phase.  We will start with a New Moon."
   ]
  },
  {
   "cell_type": "code",
   "execution_count": null,
   "metadata": {
    "collapsed": false
   },
   "outputs": [],
   "source": [
    "%matplotlib inline\n",
    "\n",
    "interact(module1_utils.multistation_moon, data=fixed([NB_2014, PT_2014, PA_2014]), cycle_days=mcd.New_2014)"
   ]
  },
  {
   "cell_type": "markdown",
   "metadata": {},
   "source": [
    "We can also explore the First Quarter Moon"
   ]
  },
  {
   "cell_type": "code",
   "execution_count": null,
   "metadata": {
    "collapsed": false
   },
   "outputs": [],
   "source": [
    "interact(module1_utils.multistation_moon, data=fixed([NB_2014, PT_2014, PA_2014]), cycle_days=mcd.First_2014)"
   ]
  },
  {
   "cell_type": "markdown",
   "metadata": {},
   "source": [
    "The Full Moon..."
   ]
  },
  {
   "cell_type": "code",
   "execution_count": null,
   "metadata": {
    "collapsed": false
   },
   "outputs": [],
   "source": [
    "interact(module1_utils.multistation_moon, data=fixed([NB_2014, PT_2014, PA_2014]), cycle_days=mcd.Full_2014)"
   ]
  },
  {
   "cell_type": "markdown",
   "metadata": {},
   "source": [
    "And Third Quarter..."
   ]
  },
  {
   "cell_type": "code",
   "execution_count": null,
   "metadata": {
    "collapsed": false
   },
   "outputs": [],
   "source": [
    "interact(module1_utils.multistation_moon, data=fixed([NB_2014, PT_2014, PA_2014]), cycle_days=mcd.Third_2014)"
   ]
  },
  {
   "cell_type": "code",
   "execution_count": null,
   "metadata": {
    "collapsed": false
   },
   "outputs": [],
   "source": [
    "# We can also compare with Third tides, which are also Neap Tides.\n",
    "from tydal.module1_utils import trim_data\n",
    "NB06012014 = trim_data(NB, \"2014-06-01 00:00:00\", \"2014-06-02 00:00:00\")\n",
    "PT06012014 = trim_data(PT, \"2014-06-01 00:00:00\", \"2014-06-02 00:00:00\")\n",
    "PA06012014 = trim_data(PA, \"2014-06-01 00:00:00\", \"2014-06-02 00:00:00\")\n",
    "plt.style.use('ggplot')\n",
    "fig, ax = plt.subplots(figsize=(12, 6))\n",
    "plt.plot(PT06012014['Date Time'], PT06012014['Water Level'],label='Port Townsend')\n",
    "plt.plot(PA06012014['Date Time'], PA06012014['Water Level'],label='Port Angeles')\n",
    "plt.plot(NB06012014['Date Time'], NB06012014['Water Level'],label='Neah Bay')\n",
    "plt.xlabel(\"Time (Hours)\")\n",
    "plt.ylabel(\"Water Depth based on MLLW\")\n",
    "plt.legend()\n",
    "ax.set_title(\"Water Level by Time showing High and Low Tide\")\n",
    "plt.show()\n",
    "\n"
   ]
  },
  {
   "cell_type": "code",
   "execution_count": null,
   "metadata": {
    "collapsed": true
   },
   "outputs": [],
   "source": [
    "\n",
    "#Label first high and Low\n",
    "#Image moon earth"
   ]
  },
  {
   "cell_type": "markdown",
   "metadata": {
    "collapsed": true
   },
   "source": [
    "Notice in the figure above that each station (in same geographical area=Washington State) the water level chnages between the three. This is due to the ebb and flow of the tides into the sound. Notice the steep positive slopes to flat to steep negative slope and back."
   ]
  },
  {
   "cell_type": "code",
   "execution_count": null,
   "metadata": {
    "collapsed": true
   },
   "outputs": [],
   "source": [
    "Image(\"./Figures/MapOfStations.jpg\")"
   ]
  },
  {
   "cell_type": "code",
   "execution_count": null,
   "metadata": {
    "collapsed": false
   },
   "outputs": [],
   "source": [
    "#Full month of data? New to New Moon?"
   ]
  },
  {
   "cell_type": "code",
   "execution_count": null,
   "metadata": {
    "collapsed": false
   },
   "outputs": [],
   "source": []
  },
  {
   "cell_type": "code",
   "execution_count": null,
   "metadata": {
    "collapsed": false
   },
   "outputs": [],
   "source": []
  },
  {
   "cell_type": "markdown",
   "metadata": {},
   "source": [
    "Then we should pull in all three stations and (still working out exactly how I want to show this) show how the water level compares between the three across a day. (This is to show the ebb and flow of the tides into the sound, steep positive slope to flat to steep negative slope and back)."
   ]
  },
  {
   "cell_type": "markdown",
   "metadata": {},
   "source": [
    "We may want to pick a full month of data to plot to show how the range of the tides changes throughout the month (from new moon to new moon)."
   ]
  },
  {
   "cell_type": "markdown",
   "metadata": {},
   "source": []
  },
  {
   "cell_type": "markdown",
   "metadata": {},
   "source": [
    "# # Module 1 Quiz"
   ]
  },
  {
   "cell_type": "code",
   "execution_count": null,
   "metadata": {
    "collapsed": false
   },
   "outputs": [],
   "source": [
    "def quiz():\n",
    "    print(\"Module 1 Quiz (5 questions)\")\n",
    "    print()\n",
    "    print(\"Question 1: Why is the Earth affected by the Moon?\")\n",
    "    print()\n",
    "    print(\"a. Massive\")\n",
    "    print(\"b. Close/Proximity\")\n",
    "    print(\"c. It isn't\")\n",
    "    answer = input(\"Make your choice: \")\n",
    "    if answer == \"b\":\n",
    "        print(\"Correct!\")\n",
    "    else:\n",
    "        print(\"Incorrect\")\n",
    "    print(\"Question 2: How many high and low tides are there in a day?\")\n",
    "    print()\n",
    "    print(\"a. 2 high, 1 low\")\n",
    "    print(\"b. 1 high, 1 low\")\n",
    "    print(\"c. 2 high, 2 low\")\n",
    "    answer = input(\"Make your choice: \")\n",
    "    if answer == \"c\":\n",
    "        print(\"Correct!\")\n",
    "    else:\n",
    "        print(\"Incorrect\")  \n",
    "    print(\"Question 2: How many high and low tides are there in a day for a semidurinal tideal day?\")\n",
    "    print()\n",
    "    print(\"a. 2 high, 1 low\")\n",
    "    print(\"b. 1 high, 1 low\")\n",
    "    print(\"c. 2 high, 2 low\")\n",
    "    answer = input(\"Make your choice: \")\n",
    "    if answer == \"c\":\n",
    "        print(\"Correct!\")\n",
    "    else:\n",
    "        print(\"Incorrect\") \n",
    "    print(\"Question 3: The tidal period is of of 24 hours by __ due to the Earth's roation about it's axis?\")\n",
    "    print()\n",
    "    print(\"a. None\")\n",
    "    print(\"b. 50 minutes\")\n",
    "    print(\"c. 1 hour\")\n",
    "    answer = input(\"Make your choice: \")\n",
    "    if answer == \"b\":\n",
    "        print(\"Correct!\")\n",
    "    else:\n",
    "        print(\"Incorrect\") \n",
    "    print(\"Question 4: Spring tide causes tidal bulges to be ___ high tide and ___ low tide?\")\n",
    "    print()\n",
    "    print(\"a. higher, lower\")\n",
    "    print(\"b. higher, higher\")\n",
    "    print(\"c. lower, higher\")\n",
    "    answer = input(\"Make your choice: \")\n",
    "    if answer == \"a\":\n",
    "        print(\"Correct!\")\n",
    "    else:\n",
    "        print(\"Incorrect\") \n",
    "    print(\"Question 5: Neap tide (First and Third Quarter moon) causes tidal bulges to be ___ high tide and ___ low tide?\")\n",
    "    print()\n",
    "    print(\"a. higher, lower\")\n",
    "    print(\"b. higher, higher\")\n",
    "    print(\"c. lower, higher\")\n",
    "    answer = input(\"Make your choice: \")\n",
    "    if answer == \"c\":\n",
    "        print(\"Correct!\")\n",
    "    else:\n",
    "        print(\"Incorrect\") \n",
    "    print(\"Go to Module 2\")"
   ]
  },
  {
   "cell_type": "code",
   "execution_count": null,
   "metadata": {
    "collapsed": false
   },
   "outputs": [],
   "source": [
    "quiz()"
   ]
  }
 ],
 "metadata": {
  "anaconda-cloud": {},
  "kernelspec": {
   "display_name": "Python [default]",
   "language": "python",
   "name": "python3"
  },
  "language_info": {
   "codemirror_mode": {
    "name": "ipython",
    "version": 3
   },
   "file_extension": ".py",
   "mimetype": "text/x-python",
   "name": "python",
   "nbconvert_exporter": "python",
   "pygments_lexer": "ipython3",
   "version": "3.5.2"
  }
 },
 "nbformat": 4,
 "nbformat_minor": 1
}
