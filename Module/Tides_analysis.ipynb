{
 "cells": [
  {
   "cell_type": "markdown",
   "metadata": {},
   "source": [
    "# Notebook for initial analysis of the Tidal Data"
   ]
  },
  {
   "cell_type": "markdown",
   "metadata": {},
   "source": [
    "## From this code we can start generating useful functions"
   ]
  },
  {
   "cell_type": "code",
   "execution_count": 1,
   "metadata": {
    "collapsed": false
   },
   "outputs": [],
   "source": [
    "import os\n",
    "import glob\n",
    "import numpy as np\n",
    "import pandas as pd\n",
    "import xarray as xr\n",
    "import matplotlib.pyplot as plt"
   ]
  },
  {
   "cell_type": "code",
   "execution_count": null,
   "metadata": {
    "collapsed": false
   },
   "outputs": [],
   "source": [
    "import tide_utils as tide"
   ]
  },
  {
   "cell_type": "code",
   "execution_count": null,
   "metadata": {
    "collapsed": false
   },
   "outputs": [],
   "source": [
    "NeahBay = tide.load_Neah_Bay('../Data')\n",
    "PortAngeles = tide.load_Port_Angeles('../Data')\n",
    "PortTownsend = tide.load_Port_Townsend('../Data')"
   ]
  },
  {
   "cell_type": "code",
   "execution_count": null,
   "metadata": {
    "collapsed": false
   },
   "outputs": [],
   "source": [
    "del NeahBay, PortAngeles, PortTownsend"
   ]
  },
  {
   "cell_type": "markdown",
   "metadata": {},
   "source": [
    "## Load the tidal csv data and put into a single dataframe and create a useful datetime index"
   ]
  },
  {
   "cell_type": "code",
   "execution_count": 6,
   "metadata": {
    "collapsed": true
   },
   "outputs": [],
   "source": [
    "def load_Neah_Bay(datadir):\n",
    "    \"\"\"\n",
    "    Function to load the Neah Bay tidal station data from 2015 - 2016 \n",
    "    and returns a dataframe and a Datetime Index object\n",
    "    Datadir is the directory path to where the data is located\n",
    "    \"\"\"\n",
    "    if not glob.glob(os.path.join(datadir, '*NeahBay.csv')):\n",
    "        return None\n",
    "    else:\n",
    "        NeahBay_2014 = pd.read_csv(datadir + \"2014_NeahBay.csv\",parse_dates=['Date Time'])\n",
    "        NeahBay_2015 = pd.read_csv(datadir + \"2015_NeahBay.csv\",parse_dates=['Date Time'])\n",
    "        NeahBay_2016 = pd.read_csv(datadir + \"2016_NeahBay.csv\",parse_dates=['Date Time'])\n",
    "        NeahBay = NeahBay_2014.append(NeahBay_2015)\n",
    "        NeahBay = NeahBay.append(NeahBay_2016)\n",
    "        NeahBay.rename(columns={'Date Time':'datetime'}, inplace=True)\n",
    "        return NeahBay"
   ]
  },
  {
   "cell_type": "code",
   "execution_count": null,
   "metadata": {
    "collapsed": false
   },
   "outputs": [],
   "source": [
    "NeahBay = load_Neah_Bay('../Data/')"
   ]
  },
  {
   "cell_type": "code",
   "execution_count": null,
   "metadata": {
    "collapsed": false
   },
   "outputs": [],
   "source": [
    "NeahBay.head()"
   ]
  },
  {
   "cell_type": "code",
   "execution_count": null,
   "metadata": {
    "collapsed": true
   },
   "outputs": [],
   "source": [
    "def load_Port_Angeles(datadir):\n",
    "    \"\"\"\n",
    "    Function to load the Port Angeles tidal station data from 2015 & 2016 \n",
    "    Supply the directory to where the csv files with the data are saved\n",
    "    Returns None if files are not located in specified directory\n",
    "    \"\"\"\n",
    "    if not glob.glob(os.path.join(datadir, '*PortAngeles.csv')):\n",
    "        return None\n",
    "    else:\n",
    "        # Load the Port Angeles tidal data and put into one dataframe\n",
    "        PortAngeles_2014 = pd.read_csv(datadir + '/2014_PortAngeles.csv',parse_dates=['Date Time'])\n",
    "        PortAngeles_2015 = pd.read_csv(datadir + '/2015_PortAngeles.csv',parse_dates=['Date Time'])\n",
    "        PortAngeles_2016 = pd.read_csv(datadir + '/2016_PortAngeles.csv',parse_dates=['Date Time'])\n",
    "        PortAngeles = PortAngeles_2014.append(PortAngeles_2015)\n",
    "        PortAngeles = PortAngeles.append(PortAngeles_2016)\n",
    "        PortAngeles.rename(columns={'Date Time':'datetime'}, inplace=True)\n",
    "        return PortAngeles"
   ]
  },
  {
   "cell_type": "code",
   "execution_count": null,
   "metadata": {
    "collapsed": false
   },
   "outputs": [],
   "source": [
    "def load_Port_Townsend(datadir):\n",
    "    \"\"\"\n",
    "    Function to load the Port Townsend tidal station data from 2015 & 2016 \n",
    "    Supply the directory to where the csv files with the data are saved\n",
    "    Returns None if files are not located in specified directory\n",
    "    \"\"\"\n",
    "    if not glob.glob(os.path.join(datadir, '*PortTownsend.csv')):\n",
    "        return None\n",
    "    else:\n",
    "        PortTownsend_2014 = pd.read_csv(datadir + '/2014_PortTownsend.csv',parse_dates=['Date Time'])\n",
    "        PortTownsend_2015 = pd.read_csv(datadir + '/2015_PortTownsend.csv',parse_dates=['Date Time'])\n",
    "        PortTownsend_2016 = pd.read_csv(datadir + '/2016_PortTownsend.csv',parse_dates=['Date Time'])\n",
    "        PortTownsend = PortTownsend_2014.append(PortTownsend_2015)\n",
    "        PortTownsend = PortTownsend.append(PortTownsend_2016)\n",
    "        PortTownsend.rename(columns={'Date Time':'datetime'}, inplace=True)\n",
    "        return PortTownsend"
   ]
  },
  {
   "cell_type": "code",
   "execution_count": null,
   "metadata": {
    "collapsed": true
   },
   "outputs": [],
   "source": [
    "def load_tide_data(datadir):\n",
    "    \"\"\"\n",
    "    Upper level load function for the Tide Data.\n",
    "    Datadir is the directory where the data .csv files are saved\n",
    "    \"\"\"\n",
    "    NeahBay = load_Neah_Bay(datadir)\n",
    "    PortAngeles = load_Port_Angeles(datadir)\n",
    "    PortTownsend = load_Port_Townsend(datadir)\n",
    "    return NeahBay, PortAngeles, PortTownsend\n",
    "    "
   ]
  },
  {
   "cell_type": "code",
   "execution_count": null,
   "metadata": {
    "collapsed": false
   },
   "outputs": [],
   "source": [
    "import fnmatch\n",
    "import os\n",
    "\n",
    "def find_files(base, pattern):\n",
    "    '''Return list of files matching pattern in base folder.'''\n",
    "    return [n for n in fnmatch.filter(os.listdir(base), pattern) if\n",
    "        os.path.isfile(os.path.join(base, n))]\n",
    "\n"
   ]
  },
  {
   "cell_type": "code",
   "execution_count": null,
   "metadata": {
    "collapsed": false
   },
   "outputs": [],
   "source": [
    "find_files('../Data/','*NB.csv')"
   ]
  },
  {
   "cell_type": "code",
   "execution_count": null,
   "metadata": {
    "collapsed": false
   },
   "outputs": [],
   "source": [
    "NeahBay, PortAngeles, PortTownsend = load_tide_data(\"../Data/\")"
   ]
  },
  {
   "cell_type": "code",
   "execution_count": null,
   "metadata": {
    "collapsed": false
   },
   "outputs": [],
   "source": [
    "print(PortTownsend)"
   ]
  },
  {
   "cell_type": "code",
   "execution_count": null,
   "metadata": {
    "collapsed": false
   },
   "outputs": [],
   "source": [
    "def create_tide_dataset(NeahBay,PortAngeles,PortTownsend):\n",
    "    \"\"\"\n",
    "    Function takes in the tidal station dataframes and returns\n",
    "    an Xarray Dataset with the tidal station data\n",
    "    \"\"\"\n",
    "    NB = xr.DataArray(NeahBay['Water Level'],dims='datetime')\n",
    "    PA = xr.DataArray(PortAngeles['Water Level'],dims='datetime')\n",
    "    PT = xr.DataArray(PortTownsend['Water Level'],dims='datetime')\n",
    "    Tides = xr.Dataset({'NeahBay':NB, 'PortAngeles':PA, 'PortTownsend':PT})\n",
    "    return Tides"
   ]
  },
  {
   "cell_type": "code",
   "execution_count": null,
   "metadata": {
    "collapsed": false
   },
   "outputs": [],
   "source": [
    "Tides = create_tide_dataset(NeahBay,PortAngeles,PortTownsend)"
   ]
  },
  {
   "cell_type": "code",
   "execution_count": 7,
   "metadata": {
    "collapsed": false
   },
   "outputs": [],
   "source": [
    "NeahBay = load_Neah_Bay('../Data/')"
   ]
  },
  {
   "cell_type": "code",
   "execution_count": 8,
   "metadata": {
    "collapsed": false
   },
   "outputs": [
    {
     "data": {
      "text/html": [
       "<div>\n",
       "<table border=\"1\" class=\"dataframe\">\n",
       "  <thead>\n",
       "    <tr style=\"text-align: right;\">\n",
       "      <th></th>\n",
       "      <th>Unnamed: 0</th>\n",
       "      <th>datetime</th>\n",
       "      <th>Water Level</th>\n",
       "      <th>Sigma</th>\n",
       "    </tr>\n",
       "  </thead>\n",
       "  <tbody>\n",
       "    <tr>\n",
       "      <th>0</th>\n",
       "      <td>0</td>\n",
       "      <td>2014-01-01 00:00:00</td>\n",
       "      <td>0.026</td>\n",
       "      <td>0.049</td>\n",
       "    </tr>\n",
       "    <tr>\n",
       "      <th>1</th>\n",
       "      <td>1</td>\n",
       "      <td>2014-01-01 00:06:00</td>\n",
       "      <td>-0.197</td>\n",
       "      <td>0.043</td>\n",
       "    </tr>\n",
       "    <tr>\n",
       "      <th>2</th>\n",
       "      <td>2</td>\n",
       "      <td>2014-01-01 00:12:00</td>\n",
       "      <td>-0.427</td>\n",
       "      <td>0.033</td>\n",
       "    </tr>\n",
       "    <tr>\n",
       "      <th>3</th>\n",
       "      <td>3</td>\n",
       "      <td>2014-01-01 00:18:00</td>\n",
       "      <td>-0.624</td>\n",
       "      <td>0.043</td>\n",
       "    </tr>\n",
       "    <tr>\n",
       "      <th>4</th>\n",
       "      <td>4</td>\n",
       "      <td>2014-01-01 00:24:00</td>\n",
       "      <td>-0.788</td>\n",
       "      <td>0.049</td>\n",
       "    </tr>\n",
       "  </tbody>\n",
       "</table>\n",
       "</div>"
      ],
      "text/plain": [
       "   Unnamed: 0             datetime  Water Level  Sigma\n",
       "0           0  2014-01-01 00:00:00        0.026  0.049\n",
       "1           1  2014-01-01 00:06:00       -0.197  0.043\n",
       "2           2  2014-01-01 00:12:00       -0.427  0.033\n",
       "3           3  2014-01-01 00:18:00       -0.624  0.043\n",
       "4           4  2014-01-01 00:24:00       -0.788  0.049"
      ]
     },
     "execution_count": 8,
     "metadata": {},
     "output_type": "execute_result"
    }
   ],
   "source": [
    "NeahBay.head()"
   ]
  },
  {
   "cell_type": "code",
   "execution_count": null,
   "metadata": {
    "collapsed": false
   },
   "outputs": [],
   "source": [
    "Tides.NeahBay.sel(datetime=slice('2016-01-01','2016-01-02'))"
   ]
  },
  {
   "cell_type": "code",
   "execution_count": null,
   "metadata": {
    "collapsed": false
   },
   "outputs": [],
   "source": [
    "# Take a slice\n",
    "NB = Tides.NeahBay.sel(datetime=slice('2015-01-01','2015-01-02'))\n",
    "PA = Tides.PortAngeles.sel(datetime=slice('2015-01-01','2015-01-02'))\n",
    "PT = Tides.PortTownsend.sel(datetime=slice('2015-01-01','2015-01-02'))"
   ]
  },
  {
   "cell_type": "code",
   "execution_count": null,
   "metadata": {
    "collapsed": false
   },
   "outputs": [],
   "source": [
    "from ipywidgets import interact\n",
    "import ipywidgets as widgets"
   ]
  },
  {
   "cell_type": "code",
   "execution_count": null,
   "metadata": {
    "collapsed": true
   },
   "outputs": [],
   "source": [
    "def plot_tide_data(dt):\n",
    "    \"\"\"\n",
    "    This function plots the three tidal stations for the given\n",
    "    time period along with a marker showing the time and elevation\n",
    "    selected using the widget slider\n",
    "    \"\"\"\n",
    "    fig, axes = plt.subplots(nrows=3)\n",
    "    NB.plot(ax=axes[0])\n",
    "    axes[0].scatter(x=NB.datetime.values[dt],y=NB.values[dt],color=\"red\",s=100)\n",
    "    axes[0].grid()\n",
    "\n",
    "    PA.plot(ax=axes[1])\n",
    "    axes[1].scatter(x=NB.datetime.values[dt],y=PA.values[dt],color=\"red\",s=100)\n",
    "    axes[1].grid()\n",
    "\n",
    "    PT.plot(ax=axes[2])\n",
    "    axes[2].scatter(x=NB.datetime.values[dt],y=PT.values[dt],color=\"red\",s=100)\n",
    "    axes[2].grid()\n",
    "    \n",
    "    plot_tidal_elevation(dt)"
   ]
  },
  {
   "cell_type": "code",
   "execution_count": null,
   "metadata": {
    "collapsed": false
   },
   "outputs": [],
   "source": []
  },
  {
   "cell_type": "code",
   "execution_count": null,
   "metadata": {
    "collapsed": false
   },
   "outputs": [],
   "source": [
    "slide = widgets.IntSlider(1,1,len(NB.datetime.values)-1)\n",
    "interact(plot_tide_data,dt=slide)"
   ]
  },
  {
   "cell_type": "code",
   "execution_count": null,
   "metadata": {
    "collapsed": false
   },
   "outputs": [],
   "source": [
    "slide.value"
   ]
  },
  {
   "cell_type": "code",
   "execution_count": null,
   "metadata": {
    "collapsed": false
   },
   "outputs": [],
   "source": [
    "def plot_tidal_elevation(slide):\n",
    "    try:\n",
    "        # Create a figure with 3 rows & 1 column\n",
    "        fig, axes = plt.subplots(nrows=1,ncols=1)\n",
    "        # Get each station's tidal elevation based on the widget slider\n",
    "        NBelev = NB.values[slide]\n",
    "        PAelev = PA.values[slide]\n",
    "        PTelev = PT.values[slide]\n",
    "        # Create dummy x-values\n",
    "        x=(1,2,3)\n",
    "        y=(NBelev,PAelev,PTelev)\n",
    "        # Create the figure with station labels\n",
    "        plt.scatter(x,y,s=100,color=\"red\",zorder=2)\n",
    "        plt.plot(x,y,'b',zorder=1)\n",
    "        plt.xticks(x,['Neah Bay','Port Angeles','Port Townsend'],rotation='vertical')\n",
    "        plt.grid()\n",
    "        plt.ylabel('Tidal Elevation (m)')\n",
    "    except:\n",
    "        return None"
   ]
  },
  {
   "cell_type": "code",
   "execution_count": null,
   "metadata": {
    "collapsed": false
   },
   "outputs": [],
   "source": []
  },
  {
   "cell_type": "code",
   "execution_count": null,
   "metadata": {
    "collapsed": true
   },
   "outputs": [],
   "source": [
    "\n",
    "    "
   ]
  },
  {
   "cell_type": "markdown",
   "metadata": {},
   "source": [
    "### Just do some plotting to make sure the data looks reasonable"
   ]
  },
  {
   "cell_type": "code",
   "execution_count": null,
   "metadata": {
    "collapsed": true
   },
   "outputs": [],
   "source": [
    "%matplotlib inline"
   ]
  },
  {
   "cell_type": "code",
   "execution_count": null,
   "metadata": {
    "collapsed": true
   },
   "outputs": [],
   "source": [
    "# Try taking the difference in the water level between the different stations\n",
    "dif_Neah_Angeles = NeahBay[' Water Level'] - PortAngeles[' Water Level']"
   ]
  },
  {
   "cell_type": "code",
   "execution_count": null,
   "metadata": {
    "collapsed": false
   },
   "outputs": [],
   "source": [
    "NB, NB_dt = select_tide_data(NeahBay,NeahBay_datetime,['Jan 1 2016'],['Jan 31 2016 23:59:59'])\n",
    "PA, PA_dt = select_tide_data(PortAngeles,PortAngeles_datetime,['Jan 1 2016'],['Jan 31 2016 23:59:59'])\n",
    "PT, PT_dt = select_tide_data(PortTownsend,PortTownsend_datetime,['Jan 1 2016'],['Jan 31 2016 23:59:59'])"
   ]
  },
  {
   "cell_type": "code",
   "execution_count": null,
   "metadata": {
    "collapsed": false
   },
   "outputs": [],
   "source": [
    "dif_NB_PA['Water Level'] = NB[' Water Level'] - PA[' Water Level']"
   ]
  },
  {
   "cell_type": "code",
   "execution_count": null,
   "metadata": {
    "collapsed": false
   },
   "outputs": [],
   "source": [
    "dif_NB_PA['Date Time'] = NB['Date Time']"
   ]
  },
  {
   "cell_type": "code",
   "execution_count": null,
   "metadata": {
    "collapsed": false
   },
   "outputs": [],
   "source": []
  },
  {
   "cell_type": "code",
   "execution_count": null,
   "metadata": {
    "collapsed": false
   },
   "outputs": [],
   "source": [
    "NB[' Water Level'].groupby(NB_dt.date).mean().plot().grid()"
   ]
  },
  {
   "cell_type": "code",
   "execution_count": null,
   "metadata": {
    "collapsed": true
   },
   "outputs": [],
   "source": []
  },
  {
   "cell_type": "code",
   "execution_count": null,
   "metadata": {
    "collapsed": false
   },
   "outputs": [],
   "source": [
    "# Plot the daily mean of the tides data from Neah Bay stations\n",
    "NeahBay[' Water Level'].groupby(NeahBay_datetime.date).mean().plot().grid()"
   ]
  },
  {
   "cell_type": "code",
   "execution_count": null,
   "metadata": {
    "collapsed": false
   },
   "outputs": [],
   "source": [
    "# Plot the daily mean of the tides data from Port Angeles stations\n",
    "PortAngeles[' Water Level'].groupby(PortAngeles_datetime.date).mean().plot().grid()"
   ]
  },
  {
   "cell_type": "code",
   "execution_count": null,
   "metadata": {
    "collapsed": false
   },
   "outputs": [],
   "source": [
    "# Plot the daily mean of the tides data from Port Townsend stations\n",
    "PortTownsend[' Water Level'].groupby(PortTownsend_datetime.date).mean().plot().grid()"
   ]
  },
  {
   "cell_type": "code",
   "execution_count": null,
   "metadata": {
    "collapsed": true
   },
   "outputs": [],
   "source": []
  }
 ],
 "metadata": {
  "anaconda-cloud": {},
  "kernelspec": {
   "display_name": "Python [conda root]",
   "language": "python",
   "name": "conda-root-py"
  },
  "language_info": {
   "codemirror_mode": {
    "name": "ipython",
    "version": 3
   },
   "file_extension": ".py",
   "mimetype": "text/x-python",
   "name": "python",
   "nbconvert_exporter": "python",
   "pygments_lexer": "ipython3",
   "version": "3.5.2"
  }
 },
 "nbformat": 4,
 "nbformat_minor": 1
}
