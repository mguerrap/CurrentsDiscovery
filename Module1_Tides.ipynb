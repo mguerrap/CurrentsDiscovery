{
 "cells": [
  {
   "cell_type": "code",
   "execution_count": 1,
   "metadata": {
    "collapsed": false
   },
   "outputs": [],
   "source": [
    "# Let's import some packages we will need to run the code below.\n",
    "import pandas as pd\n",
    "import os\n",
    "import matplotlib.pyplot as plt\n",
    "from tydal import module1_utils"
   ]
  },
  {
   "cell_type": "code",
   "execution_count": 2,
   "metadata": {
    "collapsed": false
   },
   "outputs": [],
   "source": [
    "[NB, PT, PS] = module1_utils.load_tide_station_data()"
   ]
  },
  {
   "cell_type": "code",
   "execution_count": 3,
   "metadata": {
    "collapsed": false
   },
   "outputs": [
    {
     "data": {
      "text/html": [
       "<div>\n",
       "<table border=\"1\" class=\"dataframe\">\n",
       "  <thead>\n",
       "    <tr style=\"text-align: right;\">\n",
       "      <th></th>\n",
       "      <th>Unnamed: 0</th>\n",
       "      <th>Date Time</th>\n",
       "      <th>Water Level</th>\n",
       "      <th>Sigma</th>\n",
       "    </tr>\n",
       "  </thead>\n",
       "  <tbody>\n",
       "    <tr>\n",
       "      <th>0</th>\n",
       "      <td>0</td>\n",
       "      <td>2014-01-01 00:00:00</td>\n",
       "      <td>0.026</td>\n",
       "      <td>0.049</td>\n",
       "    </tr>\n",
       "    <tr>\n",
       "      <th>1</th>\n",
       "      <td>1</td>\n",
       "      <td>2014-01-01 00:06:00</td>\n",
       "      <td>-0.197</td>\n",
       "      <td>0.043</td>\n",
       "    </tr>\n",
       "    <tr>\n",
       "      <th>2</th>\n",
       "      <td>2</td>\n",
       "      <td>2014-01-01 00:12:00</td>\n",
       "      <td>-0.427</td>\n",
       "      <td>0.033</td>\n",
       "    </tr>\n",
       "    <tr>\n",
       "      <th>3</th>\n",
       "      <td>3</td>\n",
       "      <td>2014-01-01 00:18:00</td>\n",
       "      <td>-0.624</td>\n",
       "      <td>0.043</td>\n",
       "    </tr>\n",
       "    <tr>\n",
       "      <th>4</th>\n",
       "      <td>4</td>\n",
       "      <td>2014-01-01 00:24:00</td>\n",
       "      <td>-0.788</td>\n",
       "      <td>0.049</td>\n",
       "    </tr>\n",
       "    <tr>\n",
       "      <th>5</th>\n",
       "      <td>5</td>\n",
       "      <td>2014-01-01 00:30:00</td>\n",
       "      <td>-0.961</td>\n",
       "      <td>0.033</td>\n",
       "    </tr>\n",
       "    <tr>\n",
       "      <th>6</th>\n",
       "      <td>6</td>\n",
       "      <td>2014-01-01 00:36:00</td>\n",
       "      <td>-1.152</td>\n",
       "      <td>0.036</td>\n",
       "    </tr>\n",
       "    <tr>\n",
       "      <th>7</th>\n",
       "      <td>7</td>\n",
       "      <td>2014-01-01 00:42:00</td>\n",
       "      <td>-1.358</td>\n",
       "      <td>0.033</td>\n",
       "    </tr>\n",
       "    <tr>\n",
       "      <th>8</th>\n",
       "      <td>8</td>\n",
       "      <td>2014-01-01 00:48:00</td>\n",
       "      <td>-1.542</td>\n",
       "      <td>0.030</td>\n",
       "    </tr>\n",
       "    <tr>\n",
       "      <th>9</th>\n",
       "      <td>9</td>\n",
       "      <td>2014-01-01 00:54:00</td>\n",
       "      <td>-1.683</td>\n",
       "      <td>0.033</td>\n",
       "    </tr>\n",
       "    <tr>\n",
       "      <th>10</th>\n",
       "      <td>10</td>\n",
       "      <td>2014-01-01 01:00:00</td>\n",
       "      <td>-1.778</td>\n",
       "      <td>0.033</td>\n",
       "    </tr>\n",
       "    <tr>\n",
       "      <th>11</th>\n",
       "      <td>11</td>\n",
       "      <td>2014-01-01 01:06:00</td>\n",
       "      <td>-1.883</td>\n",
       "      <td>0.030</td>\n",
       "    </tr>\n",
       "    <tr>\n",
       "      <th>12</th>\n",
       "      <td>12</td>\n",
       "      <td>2014-01-01 01:12:00</td>\n",
       "      <td>-2.044</td>\n",
       "      <td>0.026</td>\n",
       "    </tr>\n",
       "    <tr>\n",
       "      <th>13</th>\n",
       "      <td>13</td>\n",
       "      <td>2014-01-01 01:18:00</td>\n",
       "      <td>-2.234</td>\n",
       "      <td>0.052</td>\n",
       "    </tr>\n",
       "    <tr>\n",
       "      <th>14</th>\n",
       "      <td>14</td>\n",
       "      <td>2014-01-01 01:24:00</td>\n",
       "      <td>-2.392</td>\n",
       "      <td>0.030</td>\n",
       "    </tr>\n",
       "    <tr>\n",
       "      <th>15</th>\n",
       "      <td>15</td>\n",
       "      <td>2014-01-01 01:30:00</td>\n",
       "      <td>-2.530</td>\n",
       "      <td>0.026</td>\n",
       "    </tr>\n",
       "    <tr>\n",
       "      <th>16</th>\n",
       "      <td>16</td>\n",
       "      <td>2014-01-01 01:36:00</td>\n",
       "      <td>-2.608</td>\n",
       "      <td>0.023</td>\n",
       "    </tr>\n",
       "    <tr>\n",
       "      <th>17</th>\n",
       "      <td>17</td>\n",
       "      <td>2014-01-01 01:42:00</td>\n",
       "      <td>-2.664</td>\n",
       "      <td>0.026</td>\n",
       "    </tr>\n",
       "    <tr>\n",
       "      <th>18</th>\n",
       "      <td>18</td>\n",
       "      <td>2014-01-01 01:48:00</td>\n",
       "      <td>-2.746</td>\n",
       "      <td>0.026</td>\n",
       "    </tr>\n",
       "    <tr>\n",
       "      <th>19</th>\n",
       "      <td>19</td>\n",
       "      <td>2014-01-01 01:54:00</td>\n",
       "      <td>-2.848</td>\n",
       "      <td>0.023</td>\n",
       "    </tr>\n",
       "    <tr>\n",
       "      <th>20</th>\n",
       "      <td>20</td>\n",
       "      <td>2014-01-01 02:00:00</td>\n",
       "      <td>-2.927</td>\n",
       "      <td>0.026</td>\n",
       "    </tr>\n",
       "    <tr>\n",
       "      <th>21</th>\n",
       "      <td>21</td>\n",
       "      <td>2014-01-01 02:06:00</td>\n",
       "      <td>-2.973</td>\n",
       "      <td>0.033</td>\n",
       "    </tr>\n",
       "    <tr>\n",
       "      <th>22</th>\n",
       "      <td>22</td>\n",
       "      <td>2014-01-01 02:12:00</td>\n",
       "      <td>-3.005</td>\n",
       "      <td>0.023</td>\n",
       "    </tr>\n",
       "    <tr>\n",
       "      <th>23</th>\n",
       "      <td>23</td>\n",
       "      <td>2014-01-01 02:18:00</td>\n",
       "      <td>-3.035</td>\n",
       "      <td>0.030</td>\n",
       "    </tr>\n",
       "    <tr>\n",
       "      <th>24</th>\n",
       "      <td>24</td>\n",
       "      <td>2014-01-01 02:24:00</td>\n",
       "      <td>-3.051</td>\n",
       "      <td>0.023</td>\n",
       "    </tr>\n",
       "    <tr>\n",
       "      <th>25</th>\n",
       "      <td>25</td>\n",
       "      <td>2014-01-01 02:30:00</td>\n",
       "      <td>-3.068</td>\n",
       "      <td>0.023</td>\n",
       "    </tr>\n",
       "    <tr>\n",
       "      <th>26</th>\n",
       "      <td>26</td>\n",
       "      <td>2014-01-01 02:36:00</td>\n",
       "      <td>-3.038</td>\n",
       "      <td>0.020</td>\n",
       "    </tr>\n",
       "    <tr>\n",
       "      <th>27</th>\n",
       "      <td>27</td>\n",
       "      <td>2014-01-01 02:42:00</td>\n",
       "      <td>-2.979</td>\n",
       "      <td>0.033</td>\n",
       "    </tr>\n",
       "    <tr>\n",
       "      <th>28</th>\n",
       "      <td>28</td>\n",
       "      <td>2014-01-01 02:48:00</td>\n",
       "      <td>-2.904</td>\n",
       "      <td>0.026</td>\n",
       "    </tr>\n",
       "    <tr>\n",
       "      <th>29</th>\n",
       "      <td>29</td>\n",
       "      <td>2014-01-01 02:54:00</td>\n",
       "      <td>-2.848</td>\n",
       "      <td>0.020</td>\n",
       "    </tr>\n",
       "    <tr>\n",
       "      <th>...</th>\n",
       "      <td>...</td>\n",
       "      <td>...</td>\n",
       "      <td>...</td>\n",
       "      <td>...</td>\n",
       "    </tr>\n",
       "    <tr>\n",
       "      <th>79876</th>\n",
       "      <td>6916</td>\n",
       "      <td>2016-11-29 19:36:00</td>\n",
       "      <td>8.497</td>\n",
       "      <td>0.141</td>\n",
       "    </tr>\n",
       "    <tr>\n",
       "      <th>79877</th>\n",
       "      <td>6917</td>\n",
       "      <td>2016-11-29 19:42:00</td>\n",
       "      <td>8.517</td>\n",
       "      <td>0.092</td>\n",
       "    </tr>\n",
       "    <tr>\n",
       "      <th>79878</th>\n",
       "      <td>6918</td>\n",
       "      <td>2016-11-29 19:48:00</td>\n",
       "      <td>8.494</td>\n",
       "      <td>0.072</td>\n",
       "    </tr>\n",
       "    <tr>\n",
       "      <th>79879</th>\n",
       "      <td>6919</td>\n",
       "      <td>2016-11-29 19:54:00</td>\n",
       "      <td>8.517</td>\n",
       "      <td>0.098</td>\n",
       "    </tr>\n",
       "    <tr>\n",
       "      <th>79880</th>\n",
       "      <td>6920</td>\n",
       "      <td>2016-11-29 20:00:00</td>\n",
       "      <td>8.523</td>\n",
       "      <td>0.095</td>\n",
       "    </tr>\n",
       "    <tr>\n",
       "      <th>79881</th>\n",
       "      <td>6921</td>\n",
       "      <td>2016-11-29 20:06:00</td>\n",
       "      <td>8.500</td>\n",
       "      <td>0.069</td>\n",
       "    </tr>\n",
       "    <tr>\n",
       "      <th>79882</th>\n",
       "      <td>6922</td>\n",
       "      <td>2016-11-29 20:12:00</td>\n",
       "      <td>8.458</td>\n",
       "      <td>0.066</td>\n",
       "    </tr>\n",
       "    <tr>\n",
       "      <th>79883</th>\n",
       "      <td>6923</td>\n",
       "      <td>2016-11-29 20:18:00</td>\n",
       "      <td>8.504</td>\n",
       "      <td>0.072</td>\n",
       "    </tr>\n",
       "    <tr>\n",
       "      <th>79884</th>\n",
       "      <td>6924</td>\n",
       "      <td>2016-11-29 20:24:00</td>\n",
       "      <td>8.481</td>\n",
       "      <td>0.121</td>\n",
       "    </tr>\n",
       "    <tr>\n",
       "      <th>79885</th>\n",
       "      <td>6925</td>\n",
       "      <td>2016-11-29 20:30:00</td>\n",
       "      <td>8.405</td>\n",
       "      <td>0.079</td>\n",
       "    </tr>\n",
       "    <tr>\n",
       "      <th>79886</th>\n",
       "      <td>6926</td>\n",
       "      <td>2016-11-29 20:36:00</td>\n",
       "      <td>8.313</td>\n",
       "      <td>0.079</td>\n",
       "    </tr>\n",
       "    <tr>\n",
       "      <th>79887</th>\n",
       "      <td>6927</td>\n",
       "      <td>2016-11-29 20:42:00</td>\n",
       "      <td>8.291</td>\n",
       "      <td>0.082</td>\n",
       "    </tr>\n",
       "    <tr>\n",
       "      <th>79888</th>\n",
       "      <td>6928</td>\n",
       "      <td>2016-11-29 20:48:00</td>\n",
       "      <td>8.215</td>\n",
       "      <td>0.095</td>\n",
       "    </tr>\n",
       "    <tr>\n",
       "      <th>79889</th>\n",
       "      <td>6929</td>\n",
       "      <td>2016-11-29 20:54:00</td>\n",
       "      <td>8.166</td>\n",
       "      <td>0.089</td>\n",
       "    </tr>\n",
       "    <tr>\n",
       "      <th>79890</th>\n",
       "      <td>6930</td>\n",
       "      <td>2016-11-29 21:00:00</td>\n",
       "      <td>8.061</td>\n",
       "      <td>0.075</td>\n",
       "    </tr>\n",
       "    <tr>\n",
       "      <th>79891</th>\n",
       "      <td>6931</td>\n",
       "      <td>2016-11-29 21:06:00</td>\n",
       "      <td>7.959</td>\n",
       "      <td>0.079</td>\n",
       "    </tr>\n",
       "    <tr>\n",
       "      <th>79892</th>\n",
       "      <td>6932</td>\n",
       "      <td>2016-11-29 21:12:00</td>\n",
       "      <td>7.890</td>\n",
       "      <td>0.072</td>\n",
       "    </tr>\n",
       "    <tr>\n",
       "      <th>79893</th>\n",
       "      <td>6933</td>\n",
       "      <td>2016-11-29 21:18:00</td>\n",
       "      <td>7.828</td>\n",
       "      <td>0.095</td>\n",
       "    </tr>\n",
       "    <tr>\n",
       "      <th>79894</th>\n",
       "      <td>6934</td>\n",
       "      <td>2016-11-29 21:24:00</td>\n",
       "      <td>7.716</td>\n",
       "      <td>0.089</td>\n",
       "    </tr>\n",
       "    <tr>\n",
       "      <th>79895</th>\n",
       "      <td>6935</td>\n",
       "      <td>2016-11-29 21:30:00</td>\n",
       "      <td>7.602</td>\n",
       "      <td>0.075</td>\n",
       "    </tr>\n",
       "    <tr>\n",
       "      <th>79896</th>\n",
       "      <td>6936</td>\n",
       "      <td>2016-11-29 21:36:00</td>\n",
       "      <td>7.444</td>\n",
       "      <td>0.092</td>\n",
       "    </tr>\n",
       "    <tr>\n",
       "      <th>79897</th>\n",
       "      <td>6937</td>\n",
       "      <td>2016-11-29 21:42:00</td>\n",
       "      <td>7.273</td>\n",
       "      <td>0.052</td>\n",
       "    </tr>\n",
       "    <tr>\n",
       "      <th>79898</th>\n",
       "      <td>6938</td>\n",
       "      <td>2016-11-29 21:48:00</td>\n",
       "      <td>7.155</td>\n",
       "      <td>0.075</td>\n",
       "    </tr>\n",
       "    <tr>\n",
       "      <th>79899</th>\n",
       "      <td>6939</td>\n",
       "      <td>2016-11-29 21:54:00</td>\n",
       "      <td>7.109</td>\n",
       "      <td>0.085</td>\n",
       "    </tr>\n",
       "    <tr>\n",
       "      <th>79900</th>\n",
       "      <td>6940</td>\n",
       "      <td>2016-11-29 22:00:00</td>\n",
       "      <td>6.995</td>\n",
       "      <td>0.072</td>\n",
       "    </tr>\n",
       "    <tr>\n",
       "      <th>79901</th>\n",
       "      <td>6941</td>\n",
       "      <td>2016-11-29 22:06:00</td>\n",
       "      <td>6.768</td>\n",
       "      <td>0.082</td>\n",
       "    </tr>\n",
       "    <tr>\n",
       "      <th>79902</th>\n",
       "      <td>6942</td>\n",
       "      <td>2016-11-29 22:12:00</td>\n",
       "      <td>6.594</td>\n",
       "      <td>0.075</td>\n",
       "    </tr>\n",
       "    <tr>\n",
       "      <th>79903</th>\n",
       "      <td>6943</td>\n",
       "      <td>2016-11-29 22:18:00</td>\n",
       "      <td>6.453</td>\n",
       "      <td>0.072</td>\n",
       "    </tr>\n",
       "    <tr>\n",
       "      <th>79904</th>\n",
       "      <td>6944</td>\n",
       "      <td>2016-11-29 22:24:00</td>\n",
       "      <td>6.329</td>\n",
       "      <td>0.069</td>\n",
       "    </tr>\n",
       "    <tr>\n",
       "      <th>79905</th>\n",
       "      <td>6945</td>\n",
       "      <td>2016-11-29 22:30:00</td>\n",
       "      <td>6.165</td>\n",
       "      <td>0.069</td>\n",
       "    </tr>\n",
       "  </tbody>\n",
       "</table>\n",
       "<p>255106 rows × 4 columns</p>\n",
       "</div>"
      ],
      "text/plain": [
       "       Unnamed: 0           Date Time  Water Level  Sigma\n",
       "0               0 2014-01-01 00:00:00        0.026  0.049\n",
       "1               1 2014-01-01 00:06:00       -0.197  0.043\n",
       "2               2 2014-01-01 00:12:00       -0.427  0.033\n",
       "3               3 2014-01-01 00:18:00       -0.624  0.043\n",
       "4               4 2014-01-01 00:24:00       -0.788  0.049\n",
       "5               5 2014-01-01 00:30:00       -0.961  0.033\n",
       "6               6 2014-01-01 00:36:00       -1.152  0.036\n",
       "7               7 2014-01-01 00:42:00       -1.358  0.033\n",
       "8               8 2014-01-01 00:48:00       -1.542  0.030\n",
       "9               9 2014-01-01 00:54:00       -1.683  0.033\n",
       "10             10 2014-01-01 01:00:00       -1.778  0.033\n",
       "11             11 2014-01-01 01:06:00       -1.883  0.030\n",
       "12             12 2014-01-01 01:12:00       -2.044  0.026\n",
       "13             13 2014-01-01 01:18:00       -2.234  0.052\n",
       "14             14 2014-01-01 01:24:00       -2.392  0.030\n",
       "15             15 2014-01-01 01:30:00       -2.530  0.026\n",
       "16             16 2014-01-01 01:36:00       -2.608  0.023\n",
       "17             17 2014-01-01 01:42:00       -2.664  0.026\n",
       "18             18 2014-01-01 01:48:00       -2.746  0.026\n",
       "19             19 2014-01-01 01:54:00       -2.848  0.023\n",
       "20             20 2014-01-01 02:00:00       -2.927  0.026\n",
       "21             21 2014-01-01 02:06:00       -2.973  0.033\n",
       "22             22 2014-01-01 02:12:00       -3.005  0.023\n",
       "23             23 2014-01-01 02:18:00       -3.035  0.030\n",
       "24             24 2014-01-01 02:24:00       -3.051  0.023\n",
       "25             25 2014-01-01 02:30:00       -3.068  0.023\n",
       "26             26 2014-01-01 02:36:00       -3.038  0.020\n",
       "27             27 2014-01-01 02:42:00       -2.979  0.033\n",
       "28             28 2014-01-01 02:48:00       -2.904  0.026\n",
       "29             29 2014-01-01 02:54:00       -2.848  0.020\n",
       "...           ...                 ...          ...    ...\n",
       "79876        6916 2016-11-29 19:36:00        8.497  0.141\n",
       "79877        6917 2016-11-29 19:42:00        8.517  0.092\n",
       "79878        6918 2016-11-29 19:48:00        8.494  0.072\n",
       "79879        6919 2016-11-29 19:54:00        8.517  0.098\n",
       "79880        6920 2016-11-29 20:00:00        8.523  0.095\n",
       "79881        6921 2016-11-29 20:06:00        8.500  0.069\n",
       "79882        6922 2016-11-29 20:12:00        8.458  0.066\n",
       "79883        6923 2016-11-29 20:18:00        8.504  0.072\n",
       "79884        6924 2016-11-29 20:24:00        8.481  0.121\n",
       "79885        6925 2016-11-29 20:30:00        8.405  0.079\n",
       "79886        6926 2016-11-29 20:36:00        8.313  0.079\n",
       "79887        6927 2016-11-29 20:42:00        8.291  0.082\n",
       "79888        6928 2016-11-29 20:48:00        8.215  0.095\n",
       "79889        6929 2016-11-29 20:54:00        8.166  0.089\n",
       "79890        6930 2016-11-29 21:00:00        8.061  0.075\n",
       "79891        6931 2016-11-29 21:06:00        7.959  0.079\n",
       "79892        6932 2016-11-29 21:12:00        7.890  0.072\n",
       "79893        6933 2016-11-29 21:18:00        7.828  0.095\n",
       "79894        6934 2016-11-29 21:24:00        7.716  0.089\n",
       "79895        6935 2016-11-29 21:30:00        7.602  0.075\n",
       "79896        6936 2016-11-29 21:36:00        7.444  0.092\n",
       "79897        6937 2016-11-29 21:42:00        7.273  0.052\n",
       "79898        6938 2016-11-29 21:48:00        7.155  0.075\n",
       "79899        6939 2016-11-29 21:54:00        7.109  0.085\n",
       "79900        6940 2016-11-29 22:00:00        6.995  0.072\n",
       "79901        6941 2016-11-29 22:06:00        6.768  0.082\n",
       "79902        6942 2016-11-29 22:12:00        6.594  0.075\n",
       "79903        6943 2016-11-29 22:18:00        6.453  0.072\n",
       "79904        6944 2016-11-29 22:24:00        6.329  0.069\n",
       "79905        6945 2016-11-29 22:30:00        6.165  0.069\n",
       "\n",
       "[255106 rows x 4 columns]"
      ]
     },
     "execution_count": 3,
     "metadata": {},
     "output_type": "execute_result"
    }
   ],
   "source": [
    "NB"
   ]
  },
  {
   "cell_type": "code",
   "execution_count": null,
   "metadata": {
    "collapsed": true
   },
   "outputs": [],
   "source": []
  },
  {
   "cell_type": "markdown",
   "metadata": {},
   "source": [
    "# Tides\n",
    "## What causes tides?"
   ]
  },
  {
   "cell_type": "markdown",
   "metadata": {},
   "source": [
    "Tides are caused by gravitational attraction to nearby celestial bodies.  The water on Earth is affected mainly by the Moon, because it is so close, and the Sun, because it is so massive."
   ]
  },
  {
   "cell_type": "markdown",
   "metadata": {},
   "source": [
    "### The Moon's contribution to tides\n",
    "First, we will look at the influence of the Moon on Earth's water.  The primary bulge on the surface of the Earth facing the Moon is intuitive;  The Moon is on that side and its gravity pulls on the water.  The secondary bulge on the opposite face of the Earth is more elusive.  The center of mass of the Earth-Moon system is located inside the Earth, but slightly closer to the Moon.  As the Earth-Moon system rotates around this center of mass, the centripetal force pushes water to the outside, which is the side opposite the Moon.  The tidal bulge can be seen in blue below.  The Earth is the green circle and the Moon is the grey circle."
   ]
  },
  {
   "cell_type": "code",
   "execution_count": null,
   "metadata": {
    "collapsed": false
   },
   "outputs": [],
   "source": [
    "from IPython.display import Image\n",
    "Image(\"./Figures/TidalBulge.jpg\")"
   ]
  },
  {
   "cell_type": "markdown",
   "metadata": {},
   "source": [
    "The moon revolves around the Earth as the Earth rotates around its axis.  The period of Earth's rotation is 24 hours, while the period of the Moon's revolution around the Earth is ~28 days.  As the Earth rotates underneath the Moon, it moves through the Moon's tidal bulge.  This can be seen in the figure below.  A single point on Earth has been highlighted as a red dot.  Initially, the red dot starts out at the crest of the tidal bulge and is experiencing high tide.  After 6 hours, the red dot has moved underneath the bulge and has moved to the trough of the bulge known as low tide.  Continuing through the day, the red dot experiences another crest (high tide) and another trough (low tide) before returning to the initial position at high tide.  "
   ]
  },
  {
   "cell_type": "code",
   "execution_count": null,
   "metadata": {
    "collapsed": false
   },
   "outputs": [],
   "source": [
    "Image (\"./Figures/Earth_Moon_Tides_Simple.jpg\")"
   ]
  },
  {
   "cell_type": "markdown",
   "metadata": {},
   "source": [
    "A location on Earth where there are two high tides and two low tides with equal amplitude experience semidiurnal tides.  This can be seen by plotting some tide data from North Carolina (below)."
   ]
  },
  {
   "cell_type": "code",
   "execution_count": null,
   "metadata": {
    "collapsed": false
   },
   "outputs": [],
   "source": [
    "import pandas as pd\n",
    "import matplotlib.pyplot as plt\n",
    "\n",
    "%matplotlib inline\n",
    "\n",
    "data = pd.read_csv(\"./Data/SemiDiurnalTides.csv\", parse_dates=[\"Date Time\"])\n",
    "\n",
    "fig, ax = plt.subplots(figsize=(15,8))\n",
    "plt.style.use(\"ggplot\")\n",
    "plt.plot(data[\"Date Time\"], data[\"Water Level\"])\n",
    "plt.xlabel(\"Time of day\")\n",
    "plt.ylabel(\"Water Height\")\n",
    "plt.title(\"Semidiurnal Tides in North Carolina\")"
   ]
  },
  {
   "cell_type": "markdown",
   "metadata": {},
   "source": [
    "As you can see, there are two low tides at about -1ft and two high tides at about +3.3ft.  You may also notice that the tidal period is slightly longer than 24 hours."
   ]
  },
  {
   "cell_type": "markdown",
   "metadata": {},
   "source": [
    "However, the Moon revolves around the Earth in the same direction that the Earth rotates around its axis.  As such, after 24 hours the Moon has advanced past its original position.  The Earth has to rotate for an additional 50 minutes to be positioned underneath the moon.  The correct representation is shown below."
   ]
  },
  {
   "cell_type": "code",
   "execution_count": null,
   "metadata": {
    "collapsed": true
   },
   "outputs": [],
   "source": [
    "import pandas as pd\n",
    "import xarray as xr\n",
    "import matplotlib.pyplot as plt\n",
    "import numpy as np\n",
    "\n",
    "%matplotlib inline\n",
    "#Load data\n",
    "data = pd.read_csv('../Data/2014_PortTownsend.csv', parse_dates=['Date Time'])\n",
    "import plotly.plotly as py\n",
    "import plotly.graph_objs as go\n",
    "data_datetime = pd.DatetimeIndex(data['Date Time'])\n",
    "def f(data):\n",
    "    data = data.copy()\n",
    "    data['Year'] = pd.DatetimeIndex(data['Date Time']).year\n",
    "    data['Month'] = pd.DatetimeIndex(data['Date Time']).month\n",
    "    data['Day'] = pd.DatetimeIndex(data['Date Time']).day\n",
    "    data['Hour'] = pd.DatetimeIndex(data['Date Time']).hour\n",
    "    data['Minute'] = pd.DatetimeIndex(data['Date Time']).minute\n",
    "    data['Time'] =  data['Hour'] + data['Minute']/60\n",
    "    return data\n"
   ]
  },
  {
   "cell_type": "code",
   "execution_count": null,
   "metadata": {
    "collapsed": true
   },
   "outputs": [],
   "source": [
    "data1 = f(data)\n",
    "data2014 = data1.query('Year == 2014')\n",
    "data012014 = data2014.query('Month == 1')\n",
    "data01012014 = data012014.query('Day == 1')\n",
    "data01012014_simp = data01012014[['Time','Water Level']]\n",
    "data01012014_simp"
   ]
  },
  {
   "cell_type": "code",
   "execution_count": null,
   "metadata": {
    "collapsed": true
   },
   "outputs": [],
   "source": [
    "data01012014_simp.sort_values(by=['Water Level', 'Time'], ascending=True)"
   ]
  },
  {
   "cell_type": "code",
   "execution_count": null,
   "metadata": {
    "collapsed": true
   },
   "outputs": [],
   "source": [
    "data01012014_simp[(data01012014_simp.Time >= 15) & (data01012014_simp.Time <= 20)]"
   ]
  },
  {
   "cell_type": "code",
   "execution_count": null,
   "metadata": {
    "collapsed": true
   },
   "outputs": [],
   "source": [
    "plt.style.use('ggplot')\n",
    "fig, ax = plt.subplots(figsize=(12, 6))\n",
    "plt.plot(data01012014['Time'], data01012014['Water Level'])\n",
    "plt.scatter(22.8, 9.5)\n",
    "plt.xlabel(\"Time (H)\")\n",
    "plt.ylabel(\"Water Depth based on MLLW\")\n",
    "ax.set_title(\"Port Townsend Water Level by Time showing High and Low Tide\")\n",
    "plt.show()"
   ]
  },
  {
   "cell_type": "code",
   "execution_count": null,
   "metadata": {
    "collapsed": true
   },
   "outputs": [],
   "source": [
    "#plt.xlabel(\"Time (H)\")\n",
    "#plt.ylabel(\"Water Level\")\n",
    "#ax.set_title(\"Port Townsend Water Level by Time showing High and Low Tide\")\n",
    "#plt.show()\n",
    "#import seaborn\n",
    "#seaborn.set()\n",
    "#data01012014.groupby(['Time'])['Water Level'].mean().plot.bar()"
   ]
  },
  {
   "cell_type": "code",
   "execution_count": null,
   "metadata": {
    "collapsed": false
   },
   "outputs": [],
   "source": [
    "Image(\"./Figures/Earth_Moon_Tides_Real.jpg\")"
   ]
  },
  {
   "cell_type": "markdown",
   "metadata": {},
   "source": [
    "### The Sun's contribution to tides"
   ]
  },
  {
   "cell_type": "markdown",
   "metadata": {},
   "source": [
    "The Sun, although much more massive than the Moon, is farther away from Earth than the Moon and has less of an effect on the Earth's tides than the Moon.  However, it still creates its own tidal bulge.  The bulge from the sun is similar to the one formed by the moon.  Thus, the resulting bulge that the Earth sees is a sum of the two bulges: the one from the Moon and the one from the Sun.  The tidal bulge due to the Sun is in yellow and the tidal bulge from the Moon is in blue."
   ]
  },
  {
   "cell_type": "code",
   "execution_count": null,
   "metadata": {
    "collapsed": false
   },
   "outputs": [],
   "source": [
    "Image(\"./Figures/SunMoon_sum.jpg\")"
   ]
  },
  {
   "cell_type": "markdown",
   "metadata": {},
   "source": [
    "#### Phases of the Moon"
   ]
  },
  {
   "cell_type": "markdown",
   "metadata": {},
   "source": [
    "First, we will review the phases of the Moon.  The amount of the moon that is visible (illuminated) from Earth is dependent on its position relative to the Earth and Sun. When the Moon is positioned between the Sun and the Earth, it is called a New Moon, as shown below.  From Earth, if you look at the moon you will not see it.  The illuminated side is facing away from us."
   ]
  },
  {
   "cell_type": "code",
   "execution_count": null,
   "metadata": {
    "collapsed": false
   },
   "outputs": [],
   "source": [
    "Image(\"./Figures/NewMoon.jpg\")"
   ]
  },
  {
   "cell_type": "markdown",
   "metadata": {},
   "source": [
    "When the Moon makes it a quarter of the way around the Earth, or 90 degrees, it has reached the phase known as First Quarter.  At the point the right half of the moon is illuminated when viewed from Earth, as seen below."
   ]
  },
  {
   "cell_type": "code",
   "execution_count": null,
   "metadata": {
    "collapsed": false
   },
   "outputs": [],
   "source": [
    "Image(\"./Figures/FirstQuarter.jpg\")"
   ]
  },
  {
   "cell_type": "markdown",
   "metadata": {},
   "source": [
    "When the Moon has moved another quarter of the way around Earth, it reaches the phase known as Full Moon.  When viewed from the Earth, the whole moon is illuminated and visible.  "
   ]
  },
  {
   "cell_type": "code",
   "execution_count": null,
   "metadata": {
    "collapsed": false
   },
   "outputs": [],
   "source": [
    "Image(\"./Figures/FullMoon.jpg\")"
   ]
  },
  {
   "cell_type": "markdown",
   "metadata": {},
   "source": [
    "Continuing through another quarter of the way around Earth puts it in the Third Quarter postion.  At this point, the left half of the Moon is illuminated when viewed from Earth."
   ]
  },
  {
   "cell_type": "code",
   "execution_count": null,
   "metadata": {
    "collapsed": false
   },
   "outputs": [],
   "source": [
    "Image(\"./Figures/ThirdQuarter.jpg\")"
   ]
  },
  {
   "cell_type": "markdown",
   "metadata": {},
   "source": [
    "## Spring and Neap Tides"
   ]
  },
  {
   "cell_type": "markdown",
   "metadata": {},
   "source": [
    "A Spring tide occurs when the Sun, Earth, and Moon are in a line, as in a New Moon or Full Moon.  This causes the tidal bulges from the Sun and Moon to align and results in a higher high tide and a lower low tide."
   ]
  },
  {
   "cell_type": "code",
   "execution_count": null,
   "metadata": {
    "collapsed": false
   },
   "outputs": [],
   "source": [
    "Image(\"./Figures/SunMoon_Full.jpg\")"
   ]
  },
  {
   "cell_type": "markdown",
   "metadata": {},
   "source": [
    "A Neap Tide occurs when the Moon is perpendicular to the line through the center of the Earth and Sun.  This occurs during First and Third Quarters.  This causes the tidal bulges to counter each other and results in a lower high tide and a higher low tide."
   ]
  },
  {
   "cell_type": "code",
   "execution_count": null,
   "metadata": {
    "collapsed": false
   },
   "outputs": [],
   "source": [
    "Image(\"./Figures/SunMoon_Third.jpg\")"
   ]
  },
  {
   "cell_type": "code",
   "execution_count": null,
   "metadata": {
    "collapsed": false
   },
   "outputs": [],
   "source": [
    "Image(\"./Figures/FirstQuarter.jpg\")"
   ]
  },
  {
   "cell_type": "markdown",
   "metadata": {},
   "source": [
    "As you can see, the difference between high tide and low tide during a Spring Tide is much larger than during a Neap Tide."
   ]
  },
  {
   "cell_type": "markdown",
   "metadata": {
    "collapsed": true
   },
   "source": [
    "# Tide changes over different ports in same area"
   ]
  },
  {
   "cell_type": "code",
   "execution_count": null,
   "metadata": {
    "collapsed": false
   },
   "outputs": [],
   "source": [
    "PTdata = pd.read_csv('../Data/2014_PortTownsend.csv', parse_dates=['Date Time'])\n",
    "PTdata1 = f(PTdata)\n",
    "PTdata2014 = PTdata1.query('Year == 2014')\n",
    "PTdata062014 = PTdata2014.query('Month == 6')\n",
    "PTdata06012014 = PTdata062014.query('Day == 1')\n",
    "PTdata06012014_simp = PTdata06012014[['Time','Water Level']]\n",
    "PAdata = pd.read_csv('../Data/2014_PortAngeles.csv', parse_dates=['Date Time'])\n",
    "PAdata1 = f(PAdata)\n",
    "PAdata2014 = PAdata1.query('Year == 2014')\n",
    "PAdata062014 = PAdata2014.query('Month == 6')\n",
    "PAdata06012014 = PAdata062014.query('Day == 1')\n",
    "PAdata06012014_simp = PAdata06012014[['Time','Water Level']]\n",
    "NBdata = pd.read_csv('../Data/2014_NeahBay.csv', parse_dates=['Date Time'])\n",
    "NBdata1 = f(NBdata)\n",
    "NBdata2014 = NBdata1.query('Year == 2014')\n",
    "NBdata062014 = NBdata2014.query('Month == 6')\n",
    "NBdata06012014 = NBdata062014.query('Day == 1')\n",
    "NBdata06012014_simp = NBdata06012014[['Time','Water Level']]"
   ]
  },
  {
   "cell_type": "code",
   "execution_count": null,
   "metadata": {
    "collapsed": false
   },
   "outputs": [],
   "source": [
    "plt.style.use('ggplot')\n",
    "fig, ax = plt.subplots(figsize=(12, 6))\n",
    "plt.plot(PTdata06012014_simp['Time'], PTdata06012014_simp['Water Level'],label='Port Townsend')\n",
    "plt.plot(PAdata06012014_simp['Time'], PAdata06012014_simp['Water Level'],label='Port Angeles')\n",
    "plt.plot(NBdata06012014_simp['Time'], NBdata06012014_simp['Water Level'],label='Neah Bay')\n",
    "plt.xlabel(\"Time (Hours)\")\n",
    "plt.ylabel(\"Water Depth based on MLLW\")\n",
    "plt.legend()\n",
    "ax.set_title(\"Water Level by Time showing High and Low Tide\")\n",
    "plt.show()"
   ]
  },
  {
   "cell_type": "markdown",
   "metadata": {
    "collapsed": true
   },
   "source": [
    "Notice in the figure above that each station (in same geographical area=Washington State) the water level chnages between the three. This is due to the ebb and flow of the tides into the sound. Notice the steep positive slopes to flat to steep negative slope and back."
   ]
  },
  {
   "cell_type": "code",
   "execution_count": null,
   "metadata": {
    "collapsed": false
   },
   "outputs": [],
   "source": [
    "Image(\"./Figures/MapOfStations.jpg\")"
   ]
  },
  {
   "cell_type": "code",
   "execution_count": null,
   "metadata": {
    "collapsed": true
   },
   "outputs": [],
   "source": []
  },
  {
   "cell_type": "code",
   "execution_count": null,
   "metadata": {
    "collapsed": true
   },
   "outputs": [],
   "source": []
  },
  {
   "cell_type": "code",
   "execution_count": null,
   "metadata": {
    "collapsed": true
   },
   "outputs": [],
   "source": []
  },
  {
   "cell_type": "markdown",
   "metadata": {
    "collapsed": true
   },
   "source": [
    "I am thinking one plot of a single day of tides accompanied by four images of earth/moon.  There will be one dot on each (red, green, blue, yellow) at first High, first Low, second High, second Low.  Corresponding to the time at which those tides occur. (I will draw the pictures in Illustrator)."
   ]
  },
  {
   "cell_type": "markdown",
   "metadata": {},
   "source": [
    "Next, I see a description of how the phase of the moon affects the tides (Spring/Neap)\n",
    "This will be accompanied by pictures showing the Earth/Moon/Sun in the correct arrangment for each (Four images again, new moon, first quarter, full mooon, third quarter)\n",
    "There will be two Spring tide days (set of full moon and new moon dates are in the data folder) and two neap tide days (also in data folder)."
   ]
  },
  {
   "cell_type": "markdown",
   "metadata": {},
   "source": [
    "All of this can just use data from one station."
   ]
  },
  {
   "cell_type": "markdown",
   "metadata": {},
   "source": [
    "Then we should pull in all three stations and (still working out exactly how I want to show this) show how the water level compares between the three across a day. (This is to show the ebb and flow of the tides into the sound, steep positive slope to flat to steep negative slope and back)."
   ]
  },
  {
   "cell_type": "markdown",
   "metadata": {},
   "source": [
    "We may want to pick a full month of data to plot to show how the range of the tides changes throughout the month (from new moon to new moon)."
   ]
  },
  {
   "cell_type": "markdown",
   "metadata": {},
   "source": []
  }
 ],
 "metadata": {
  "anaconda-cloud": {},
  "kernelspec": {
   "display_name": "Python [default]",
   "language": "python",
   "name": "python3"
  },
  "language_info": {
   "codemirror_mode": {
    "name": "ipython",
    "version": 3
   },
   "file_extension": ".py",
   "mimetype": "text/x-python",
   "name": "python",
   "nbconvert_exporter": "python",
   "pygments_lexer": "ipython3",
   "version": "3.5.2"
  }
 },
 "nbformat": 4,
 "nbformat_minor": 1
}
