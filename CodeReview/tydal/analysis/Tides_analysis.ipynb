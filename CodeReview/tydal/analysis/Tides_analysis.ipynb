{
 "cells": [
  {
   "cell_type": "markdown",
   "metadata": {},
   "source": [
    "# Notebook for initial analysis of the Tidal Data"
   ]
  },
  {
   "cell_type": "markdown",
   "metadata": {},
   "source": [
    "## From this code we can start generating useful functions"
   ]
  },
  {
   "cell_type": "code",
   "execution_count": 6,
   "metadata": {
    "collapsed": true
   },
   "outputs": [],
   "source": [
    "import os\n",
    "import numpy as np\n",
    "import pandas as pd\n",
    "import xarray as xr\n",
    "import matplotlib.pyplot as plt"
   ]
  },
  {
   "cell_type": "markdown",
   "metadata": {},
   "source": [
    "## Load the tidal csv data and put into a single dataframe and create a useful datetime index"
   ]
  },
  {
   "cell_type": "code",
   "execution_count": 7,
   "metadata": {
    "collapsed": true
   },
   "outputs": [],
   "source": [
    "def load_Neah_Bay(datadir):\n",
    "    \"\"\"\n",
    "    Function to load the Neah Bay tidal station data from 2015 - 2016 \n",
    "    and returns a dataframe and a Datetime Index object\n",
    "    Datadir is the directory path to where the data is located\n",
    "    \"\"\"\n",
    "    if not os.path.exists(datadir + '/*NeahBay.csv'):\n",
    "        return None\n",
    "    else:\n",
    "        NeahBay_2014 = pd.read_csv(datadir + \"/2014_NeahBay.csv\",parse_dates=['Date Time'])\n",
    "        NeahBay_2015 = pd.read_csv(datadir + \"/2015_NeahBay.csv\",parse_dates=['Date Time'])\n",
    "        NeahBay_2016 = pd.read_csv(datadir + \"/2016_NeahBay.csv\",parse_dates=['Date Time'])\n",
    "        NeahBay = NeahBay_2014.append(NeahBay_2015)\n",
    "        NeahBay = NeahBay.append(NeahBay_2016)\n",
    "        return NeahBay"
   ]
  },
  {
   "cell_type": "code",
   "execution_count": 8,
   "metadata": {
    "collapsed": true
   },
   "outputs": [],
   "source": [
    "def load_Port_Angeles(datadir):\n",
    "    \"\"\"\n",
    "    Function to load the Port Angeles tidal station data from 2015 & 2016 \n",
    "    Supply the directory to where the csv files with the data are saved\n",
    "    Returns None if files are not located in specified directory\n",
    "    \"\"\"\n",
    "    if not os.path.exists(datadir + '/*PortAngeles.csv'):\n",
    "        return None\n",
    "    else:\n",
    "        # Load the Port Angeles tidal data and put into one dataframe\n",
    "        PortAngeles_2014 = pd.read_csv(datadir + '/2014_PortAngeles.csv',parse_dates=['Date Time'])\n",
    "        PortAngeles_2015 = pd.read_csv(datadir + '/2015_PortAngeles.csv',parse_dates=['Date Time'])\n",
    "        PortAngeles_2016 = pd.read_csv(datadir + '/2016_PortAngeles.csv',parse_dates=['Date Time'])\n",
    "        PortAngeles = PortAngeles_2014.append(PortAngeles_2015)\n",
    "        PortAngeles = PortAngeles.append(PortAngeles_2016)\n",
    "        return PortAngeles"
   ]
  },
  {
   "cell_type": "code",
   "execution_count": 9,
   "metadata": {
    "collapsed": false
   },
   "outputs": [],
   "source": [
    "def load_Port_Townsend(datadir):\n",
    "    \"\"\"\n",
    "    Function to load the Port Townsend tidal station data from 2015 & 2016 \n",
    "    Supply the directory to where the csv files with the data are saved\n",
    "    Returns None if files are not located in specified directory\n",
    "    \"\"\"\n",
    "    if not os.path.exists(datadir + '/*PortTownsend.csv'):\n",
    "        return None\n",
    "    else:\n",
    "        PortTownsend_2015 = pd.read_csv(datadir + '/2015_PortTownsend.csv',parse_dates=['Date Time'])\n",
    "        PortTownsend_2016 = pd.read_csv(datadir + '/2016_PortTownsend.csv',parse_dates=['Date Time'])\n",
    "        PortTownsend = PortTownsend_2014.append(PortTownsend_2015)\n",
    "        PortTownsend = PortTownsend.append(PortTownsend_2016)\n",
    "        return PortTownsend"
   ]
  },
  {
   "cell_type": "code",
   "execution_count": 13,
   "metadata": {
    "collapsed": true
   },
   "outputs": [],
   "source": [
    "def load_tide_data(datadir):\n",
    "    \"\"\"\n",
    "    Upper level load function for the Tide Data.\n",
    "    Datadir is the directory where the data .csv files are saved\n",
    "    \"\"\"\n",
    "    NeahBay = load_Neah_Bay(datadir)\n",
    "    PortAngeles = load_Port_Angeles(datadir)\n",
    "    PortTownsend = load_Port_Townsend(datadir)\n",
    "    return NeahBay, PortAngeles, PortTownsend\n",
    "    "
   ]
  },
  {
   "cell_type": "code",
   "execution_count": 20,
   "metadata": {
    "collapsed": false
   },
   "outputs": [
    {
     "name": "stdout",
     "output_type": "stream",
     "text": [
      "/c/Users/Andrew/Documents/Classes/Fall 2016/CSE599/CurrentsDiscovery/analysis\n"
     ]
    }
   ],
   "source": [
    "!pwd"
   ]
  },
  {
   "cell_type": "code",
   "execution_count": 23,
   "metadata": {
    "collapsed": false
   },
   "outputs": [
    {
     "data": {
      "text/plain": [
       "False"
      ]
     },
     "execution_count": 23,
     "metadata": {},
     "output_type": "execute_result"
    }
   ],
   "source": [
    "os.path.exists('../Data/*NeahBay.csv')"
   ]
  },
  {
   "cell_type": "code",
   "execution_count": 19,
   "metadata": {
    "collapsed": false
   },
   "outputs": [],
   "source": [
    "NeahBay, PortAngeles, PortTownsend = load_tide_data(\"../Data\")"
   ]
  },
  {
   "cell_type": "code",
   "execution_count": 18,
   "metadata": {
    "collapsed": false
   },
   "outputs": [
    {
     "name": "stdout",
     "output_type": "stream",
     "text": [
      "None\n"
     ]
    }
   ],
   "source": [
    "print(PortTownsend)"
   ]
  },
  {
   "cell_type": "code",
   "execution_count": null,
   "metadata": {
    "collapsed": false
   },
   "outputs": [],
   "source": [
    "def create_tide_dataset(NeahBay,PortAngeles,PortTownsend):\n",
    "    \"\"\"\n",
    "    Function takes in the tidal station dataframes and returns\n",
    "    an Xarray Dataset with the tidal station data\n",
    "    \"\"\"\n",
    "    NB = xr.DataArray(NeahBay[' Water Level'],dims='datetime')\n",
    "    PA = xr.DataArray(PortAngeles[' Water Level'],dims='datetime')\n",
    "    PT = xr.DataArray(PortTownsend[' Water Level'],dims='datetime')\n",
    "    Tides = xr.Dataset({'NeahBay':NB, 'PortAngeles':PA, 'PortTownsend':PT})\n",
    "    return Tides"
   ]
  },
  {
   "cell_type": "code",
   "execution_count": null,
   "metadata": {
    "collapsed": true
   },
   "outputs": [],
   "source": [
    "# Take a slice\n",
    "NB = Tides.NeahBay.sel(datetime=slice('2015-01-01','2015-01-02'))\n",
    "PA = Tides.PortAngeles.sel(datetime=slice('2015-01-01','2015-01-02'))\n",
    "PT = Tides.PortTownsend.sel(datetime=slice('2015-01-01','2015-01-02'))"
   ]
  },
  {
   "cell_type": "code",
   "execution_count": null,
   "metadata": {
    "collapsed": false
   },
   "outputs": [],
   "source": [
    "from ipywidgets import interact\n",
    "import ipywidgets as widgets"
   ]
  },
  {
   "cell_type": "code",
   "execution_count": null,
   "metadata": {
    "collapsed": true
   },
   "outputs": [],
   "source": [
    "def plot_tide_data(dt):\n",
    "    \"\"\"\n",
    "    This function plots the three tidal stations for the given\n",
    "    time period along with a marker showing the time and elevation\n",
    "    selected using the widget slider\n",
    "    \"\"\"\n",
    "    fig, axes = plt.subplots(nrows=3)\n",
    "    NB.plot(ax=axes[0])\n",
    "    axes[0].scatter(x=NB.datetime.values[dt],y=NB.values[dt],color=\"red\",s=100)\n",
    "    axes[0].grid()\n",
    "\n",
    "    PA.plot(ax=axes[1])\n",
    "    axes[1].scatter(x=NB.datetime.values[dt],y=PA.values[dt],color=\"red\",s=100)\n",
    "    axes[1].grid()\n",
    "\n",
    "    PT.plot(ax=axes[2])\n",
    "    axes[2].scatter(x=NB.datetime.values[dt],y=PT.values[dt],color=\"red\",s=100)\n",
    "    axes[2].grid()\n",
    "    \n",
    "    plot_tidal_elevation(dt)"
   ]
  },
  {
   "cell_type": "code",
   "execution_count": null,
   "metadata": {
    "collapsed": false
   },
   "outputs": [],
   "source": []
  },
  {
   "cell_type": "code",
   "execution_count": null,
   "metadata": {
    "collapsed": false
   },
   "outputs": [],
   "source": [
    "slide = widgets.IntSlider(1,1,len(NB.datetime.values)-1)\n",
    "interact(plot_tide_data,dt=slide)"
   ]
  },
  {
   "cell_type": "code",
   "execution_count": null,
   "metadata": {
    "collapsed": false
   },
   "outputs": [],
   "source": [
    "slide.value"
   ]
  },
  {
   "cell_type": "code",
   "execution_count": null,
   "metadata": {
    "collapsed": false
   },
   "outputs": [],
   "source": [
    "def plot_tidal_elevation(slide):\n",
    "    try:\n",
    "        # Create a figure with 3 rows & 1 column\n",
    "        fig, axes = plt.subplots(nrows=1,ncols=1)\n",
    "        # Get each station's tidal elevation based on the widget slider\n",
    "        NBelev = NB.values[slide]\n",
    "        PAelev = PA.values[slide]\n",
    "        PTelev = PT.values[slide]\n",
    "        # Create dummy x-values\n",
    "        x=(1,2,3)\n",
    "        y=(NBelev,PAelev,PTelev)\n",
    "        # Create the figure with station labels\n",
    "        plt.scatter(x,y,s=100,color=\"red\",zorder=2)\n",
    "        plt.plot(x,y,'b',zorder=1)\n",
    "        plt.xticks(x,['Neah Bay','Port Angeles','Port Townsend'],rotation='vertical')\n",
    "        plt.grid()\n",
    "        plt.ylabel('Tidal Elevation (m)')\n",
    "    except:\n",
    "        return None"
   ]
  },
  {
   "cell_type": "code",
   "execution_count": null,
   "metadata": {
    "collapsed": false
   },
   "outputs": [],
   "source": []
  },
  {
   "cell_type": "code",
   "execution_count": null,
   "metadata": {
    "collapsed": true
   },
   "outputs": [],
   "source": [
    "\n",
    "    "
   ]
  },
  {
   "cell_type": "markdown",
   "metadata": {},
   "source": [
    "### Just do some plotting to make sure the data looks reasonable"
   ]
  },
  {
   "cell_type": "code",
   "execution_count": null,
   "metadata": {
    "collapsed": true
   },
   "outputs": [],
   "source": [
    "%matplotlib inline"
   ]
  },
  {
   "cell_type": "code",
   "execution_count": null,
   "metadata": {
    "collapsed": true
   },
   "outputs": [],
   "source": [
    "# Try taking the difference in the water level between the different stations\n",
    "dif_Neah_Angeles = NeahBay[' Water Level'] - PortAngeles[' Water Level']"
   ]
  },
  {
   "cell_type": "code",
   "execution_count": null,
   "metadata": {
    "collapsed": false
   },
   "outputs": [],
   "source": [
    "NB, NB_dt = select_tide_data(NeahBay,NeahBay_datetime,['Jan 1 2016'],['Jan 31 2016 23:59:59'])\n",
    "PA, PA_dt = select_tide_data(PortAngeles,PortAngeles_datetime,['Jan 1 2016'],['Jan 31 2016 23:59:59'])\n",
    "PT, PT_dt = select_tide_data(PortTownsend,PortTownsend_datetime,['Jan 1 2016'],['Jan 31 2016 23:59:59'])"
   ]
  },
  {
   "cell_type": "code",
   "execution_count": null,
   "metadata": {
    "collapsed": false
   },
   "outputs": [],
   "source": [
    "dif_NB_PA['Water Level'] = NB[' Water Level'] - PA[' Water Level']"
   ]
  },
  {
   "cell_type": "code",
   "execution_count": null,
   "metadata": {
    "collapsed": false
   },
   "outputs": [],
   "source": [
    "dif_NB_PA['Date Time'] = NB['Date Time']"
   ]
  },
  {
   "cell_type": "code",
   "execution_count": null,
   "metadata": {
    "collapsed": false
   },
   "outputs": [],
   "source": []
  },
  {
   "cell_type": "code",
   "execution_count": null,
   "metadata": {
    "collapsed": false
   },
   "outputs": [],
   "source": [
    "NB[' Water Level'].groupby(NB_dt.date).mean().plot().grid()"
   ]
  },
  {
   "cell_type": "code",
   "execution_count": null,
   "metadata": {
    "collapsed": true
   },
   "outputs": [],
   "source": []
  },
  {
   "cell_type": "code",
   "execution_count": null,
   "metadata": {
    "collapsed": false
   },
   "outputs": [],
   "source": [
    "# Plot the daily mean of the tides data from Neah Bay stations\n",
    "NeahBay[' Water Level'].groupby(NeahBay_datetime.date).mean().plot().grid()"
   ]
  },
  {
   "cell_type": "code",
   "execution_count": null,
   "metadata": {
    "collapsed": false
   },
   "outputs": [],
   "source": [
    "# Plot the daily mean of the tides data from Port Angeles stations\n",
    "PortAngeles[' Water Level'].groupby(PortAngeles_datetime.date).mean().plot().grid()"
   ]
  },
  {
   "cell_type": "code",
   "execution_count": null,
   "metadata": {
    "collapsed": false
   },
   "outputs": [],
   "source": [
    "# Plot the daily mean of the tides data from Port Townsend stations\n",
    "PortTownsend[' Water Level'].groupby(PortTownsend_datetime.date).mean().plot().grid()"
   ]
  },
  {
   "cell_type": "code",
   "execution_count": null,
   "metadata": {
    "collapsed": true
   },
   "outputs": [],
   "source": []
  }
 ],
 "metadata": {
  "anaconda-cloud": {},
  "kernelspec": {
   "display_name": "Python [conda root]",
   "language": "python",
   "name": "conda-root-py"
  },
  "language_info": {
   "codemirror_mode": {
    "name": "ipython",
    "version": 3
   },
   "file_extension": ".py",
   "mimetype": "text/x-python",
   "name": "python",
   "nbconvert_exporter": "python",
   "pygments_lexer": "ipython3",
   "version": "3.5.2"
  },
  "widgets": {
   "state": {
    "2499a4cf85e949e9bed33c60240a9b88": {
     "views": [
      {
       "cell_index": 20
      }
     ]
    }
   },
   "version": "1.2.0"
  }
 },
 "nbformat": 4,
 "nbformat_minor": 1
}
