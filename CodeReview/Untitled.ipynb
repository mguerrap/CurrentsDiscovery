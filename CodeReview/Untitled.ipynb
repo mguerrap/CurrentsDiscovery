{
 "cells": [
  {
   "cell_type": "code",
   "execution_count": 2,
   "metadata": {
    "collapsed": false
   },
   "outputs": [],
   "source": [
    "import os\n",
    "import numpy as np\n",
    "import pandas as pd\n",
    "import xarray as xr\n",
    "import matplotlib.pyplot as plt\n",
    "\n",
    "\n",
    "def load_Neah_Bay(datadir):\n",
    "    \"\"\"\n",
    "    Function to load the Neah Bay tidal station data from 2015 - 2016\n",
    "    and returns a dataframe and a Datetime Index object\n",
    "    Datadir is the directory path to where the data is located\n",
    "    \"\"\"\n",
    "    if not os.path.exists(datadir + '/*NeahBay.csv'):\n",
    "        return None\n",
    "    else:\n",
    "       NeahBay_2014 = pd.read_csv(datadir + \"/2014_NeahBay.csv\", parse_dates=['Date Time'])\n",
    "       NeahBay_2015 = pd.read_csv(datadir + \"/2015_NeahBay.csv\", parse_dates=['Date Time'])\n",
    "       NeahBay_2016 = pd.read_csv(datadir + \"/2016_NeahBay.csv\", parse_dates=['Date Time'])\n",
    "       NeahBay = NeahBay_2014.append(NeahBay_2015)\n",
    "       NeahBay = NeahBay.append(NeahBay_2016)\n",
    "       return NeahBay\n",
    " "
   ]
  },
  {
   "cell_type": "code",
   "execution_count": 4,
   "metadata": {
    "collapsed": false
   },
   "outputs": [
    {
     "ename": "NameError",
     "evalue": "name 'NeahBay' is not defined",
     "output_type": "error",
     "traceback": [
      "\u001b[0;31m---------------------------------------------------------------------------\u001b[0m",
      "\u001b[0;31mNameError\u001b[0m                                 Traceback (most recent call last)",
      "\u001b[0;32m<ipython-input-4-096caf0e9c78>\u001b[0m in \u001b[0;36m<module>\u001b[0;34m()\u001b[0m\n\u001b[0;32m----> 1\u001b[0;31m \u001b[0mNeahBay\u001b[0m\u001b[0;34m.\u001b[0m\u001b[0mhead\u001b[0m\u001b[0;34m(\u001b[0m\u001b[0;34m)\u001b[0m\u001b[0;34m\u001b[0m\u001b[0m\n\u001b[0m",
      "\u001b[0;31mNameError\u001b[0m: name 'NeahBay' is not defined"
     ]
    }
   ],
   "source": [
    "NeahBay.head()"
   ]
  },
  {
   "cell_type": "code",
   "execution_count": null,
   "metadata": {
    "collapsed": true
   },
   "outputs": [],
   "source": []
  }
 ],
 "metadata": {
  "anaconda-cloud": {},
  "kernelspec": {
   "display_name": "Python [conda root]",
   "language": "python",
   "name": "conda-root-py"
  },
  "language_info": {
   "codemirror_mode": {
    "name": "ipython",
    "version": 3
   },
   "file_extension": ".py",
   "mimetype": "text/x-python",
   "name": "python",
   "nbconvert_exporter": "python",
   "pygments_lexer": "ipython3",
   "version": "3.5.2"
  }
 },
 "nbformat": 4,
 "nbformat_minor": 1
}
